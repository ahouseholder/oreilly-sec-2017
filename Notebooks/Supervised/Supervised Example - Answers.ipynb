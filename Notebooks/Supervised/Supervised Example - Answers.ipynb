{
 "cells": [
  {
   "cell_type": "markdown",
   "metadata": {},
   "source": [
    "# Supervised Machine Learning Examples\n",
    "Some examples of supervised machine learning examples in Python.\n",
    "First, load up a ton of modules..."
   ]
  },
  {
   "cell_type": "code",
   "execution_count": 72,
   "metadata": {},
   "outputs": [],
   "source": [
    "import pandas as pd\n",
    "import itertools\n",
    "import matplotlib.pyplot as plt\n",
    "import numpy as np\n",
    "from sklearn import svm\n",
    "from sklearn.ensemble import RandomForestClassifier\n",
    "from sklearn.model_selection import train_test_split\n",
    "from sklearn.model_selection import cross_val_score\n",
    "from sklearn.metrics import confusion_matrix, classification_report\n",
    "from yellowbrick.classifier import ClassificationReport, ConfusionMatrix\n",
    "from sklearn import metrics\n",
    "pd.options.mode.chained_assignment = None"
   ]
  },
  {
   "cell_type": "markdown",
   "metadata": {},
   "source": [
    "##  Load the data\n",
    "Next, we have to load the data into a dataframe.  In order to have a balanced dataset, we will use 10000 records from Alexa which will represent the not malicious domains, and 10000 records from `gameoverdga` representing the malicious domains.  \n",
    "\n",
    "You can see that at the end we have 10000 of each."
   ]
  },
  {
   "cell_type": "code",
   "execution_count": 73,
   "metadata": {},
   "outputs": [
    {
     "data": {
      "text/plain": [
       "alexa          10000\n",
       "gameoverdga    10000\n",
       "Name: dsrc, dtype: int64"
      ]
     },
     "execution_count": 73,
     "metadata": {},
     "output_type": "execute_result"
    }
   ],
   "source": [
    "df = pd.read_csv( '../../data/dga-full.csv' )\n",
    "#Filter to alexo and game over\n",
    "df = df[df['dsrc'].isin(['alexa','gameoverdga'])]\n",
    "df.dsrc.value_counts()"
   ]
  },
  {
   "cell_type": "markdown",
   "metadata": {},
   "source": [
    "## Add a Target Column\n",
    "For our datasets, we need a numeric column to represent the classes.  In our case we are going to call the column `isMalicious` and assign it a value of `0` if it is not malicious and `1` if it is."
   ]
  },
  {
   "cell_type": "code",
   "execution_count": 74,
   "metadata": {
    "collapsed": true
   },
   "outputs": [],
   "source": [
    "df['isMalicious'] = df['dsrc'].apply( lambda x: 0 if x == \"alexa\" else 1 )"
   ]
  },
  {
   "cell_type": "code",
   "execution_count": 75,
   "metadata": {},
   "outputs": [
    {
     "data": {
      "text/plain": [
       "1    10000\n",
       "0    10000\n",
       "Name: isMalicious, dtype: int64"
      ]
     },
     "execution_count": 75,
     "metadata": {},
     "output_type": "execute_result"
    }
   ],
   "source": [
    "df['isMalicious'].value_counts()"
   ]
  },
  {
   "cell_type": "markdown",
   "metadata": {},
   "source": [
    "## Perform the Train/Test Split\n",
    "For this, let’s create a rather small training data se as it will reduce the time to train up a model.\n",
    "Feel free to try a 15%, 20% or even a 30% portion for the training data (lower percentages for slower machines).\n",
    "\n",
    "In this example, we will split 30% for train and 70% for test.\n",
    "\n",
    "Normally you would want most of the data in the training data, but more training data can considerably extend the time neede to train up a model.\n",
    "\n",
    "We're also going to need a list of column names for the feature columns as well as the target column. "
   ]
  },
  {
   "cell_type": "code",
   "execution_count": 76,
   "metadata": {},
   "outputs": [],
   "source": [
    "#train, test = train_test_split(df, test_size = 0.7)\n",
    "features = ['length', 'dicts', 'entropy','numbers', 'ngram']\n",
    "target = 'isMalicious'\n",
    "\n",
    "feature_matrix = df[ features ]\n",
    "target_vector = df[ target ]\n",
    "feature_matrix_train, feature_matrix_test, target_train, target_test = train_test_split(feature_matrix, target_vector, test_size=0.25, random_state=33)"
   ]
  },
  {
   "cell_type": "code",
   "execution_count": 77,
   "metadata": {},
   "outputs": [
    {
     "data": {
      "text/html": [
       "<div>\n",
       "<style>\n",
       "    .dataframe thead tr:only-child th {\n",
       "        text-align: right;\n",
       "    }\n",
       "\n",
       "    .dataframe thead th {\n",
       "        text-align: left;\n",
       "    }\n",
       "\n",
       "    .dataframe tbody tr th {\n",
       "        vertical-align: top;\n",
       "    }\n",
       "</style>\n",
       "<table border=\"1\" class=\"dataframe\">\n",
       "  <thead>\n",
       "    <tr style=\"text-align: right;\">\n",
       "      <th></th>\n",
       "      <th>length</th>\n",
       "      <th>dicts</th>\n",
       "      <th>entropy</th>\n",
       "      <th>numbers</th>\n",
       "      <th>ngram</th>\n",
       "    </tr>\n",
       "  </thead>\n",
       "  <tbody>\n",
       "    <tr>\n",
       "      <th>14062</th>\n",
       "      <td>25</td>\n",
       "      <td>0.360000</td>\n",
       "      <td>3.973661</td>\n",
       "      <td>5</td>\n",
       "      <td>0.602060</td>\n",
       "    </tr>\n",
       "    <tr>\n",
       "      <th>51348</th>\n",
       "      <td>9</td>\n",
       "      <td>1.000000</td>\n",
       "      <td>2.725481</td>\n",
       "      <td>0</td>\n",
       "      <td>11.519587</td>\n",
       "    </tr>\n",
       "    <tr>\n",
       "      <th>12902</th>\n",
       "      <td>25</td>\n",
       "      <td>0.240000</td>\n",
       "      <td>3.973661</td>\n",
       "      <td>6</td>\n",
       "      <td>2.130334</td>\n",
       "    </tr>\n",
       "    <tr>\n",
       "      <th>46705</th>\n",
       "      <td>6</td>\n",
       "      <td>0.000000</td>\n",
       "      <td>2.251629</td>\n",
       "      <td>0</td>\n",
       "      <td>0.000000</td>\n",
       "    </tr>\n",
       "    <tr>\n",
       "      <th>18853</th>\n",
       "      <td>26</td>\n",
       "      <td>0.192308</td>\n",
       "      <td>3.796218</td>\n",
       "      <td>8</td>\n",
       "      <td>0.000000</td>\n",
       "    </tr>\n",
       "    <tr>\n",
       "      <th>21782</th>\n",
       "      <td>27</td>\n",
       "      <td>0.259259</td>\n",
       "      <td>3.856196</td>\n",
       "      <td>11</td>\n",
       "      <td>1.041393</td>\n",
       "    </tr>\n",
       "    <tr>\n",
       "      <th>45587</th>\n",
       "      <td>11</td>\n",
       "      <td>1.000000</td>\n",
       "      <td>3.095795</td>\n",
       "      <td>0</td>\n",
       "      <td>14.640100</td>\n",
       "    </tr>\n",
       "    <tr>\n",
       "      <th>47856</th>\n",
       "      <td>9</td>\n",
       "      <td>1.000000</td>\n",
       "      <td>2.725481</td>\n",
       "      <td>0</td>\n",
       "      <td>13.101406</td>\n",
       "    </tr>\n",
       "    <tr>\n",
       "      <th>15532</th>\n",
       "      <td>25</td>\n",
       "      <td>0.000000</td>\n",
       "      <td>4.243856</td>\n",
       "      <td>9</td>\n",
       "      <td>0.477121</td>\n",
       "    </tr>\n",
       "    <tr>\n",
       "      <th>14709</th>\n",
       "      <td>26</td>\n",
       "      <td>0.115385</td>\n",
       "      <td>4.132944</td>\n",
       "      <td>5</td>\n",
       "      <td>2.570543</td>\n",
       "    </tr>\n",
       "  </tbody>\n",
       "</table>\n",
       "</div>"
      ],
      "text/plain": [
       "       length     dicts   entropy  numbers      ngram\n",
       "14062      25  0.360000  3.973661        5   0.602060\n",
       "51348       9  1.000000  2.725481        0  11.519587\n",
       "12902      25  0.240000  3.973661        6   2.130334\n",
       "46705       6  0.000000  2.251629        0   0.000000\n",
       "18853      26  0.192308  3.796218        8   0.000000\n",
       "21782      27  0.259259  3.856196       11   1.041393\n",
       "45587      11  1.000000  3.095795        0  14.640100\n",
       "47856       9  1.000000  2.725481        0  13.101406\n",
       "15532      25  0.000000  4.243856        9   0.477121\n",
       "14709      26  0.115385  4.132944        5   2.570543"
      ]
     },
     "execution_count": 77,
     "metadata": {},
     "output_type": "execute_result"
    }
   ],
   "source": [
    "feature_matrix.sample(10)"
   ]
  },
  {
   "cell_type": "markdown",
   "metadata": {},
   "source": [
    "## Create the Classifiers\n",
    "The next step is to create the classifiers. What you'll see is that scikit-learn maintains a constant interface for every machine learning algorithm.  For a supervised model, the steps are:\n",
    "1.  Create the classifier object\n",
    "2.  Call the `.fit()` method with the training data set and the target \n",
    "3.  To make a prediction, call the `.predict()` method"
   ]
  },
  {
   "cell_type": "code",
   "execution_count": 98,
   "metadata": {},
   "outputs": [
    {
     "data": {
      "text/plain": [
       "RandomForestClassifier(bootstrap=True, class_weight=None, criterion='gini',\n",
       "            max_depth=None, max_features='auto', max_leaf_nodes=None,\n",
       "            min_impurity_decrease=0.0, min_impurity_split=None,\n",
       "            min_samples_leaf=1, min_samples_split=2,\n",
       "            min_weight_fraction_leaf=0.0, n_estimators=10, n_jobs=1,\n",
       "            oob_score=False, random_state=0, verbose=0, warm_start=False)"
      ]
     },
     "execution_count": 98,
     "metadata": {},
     "output_type": "execute_result"
    }
   ],
   "source": [
    "#Create the Random Forest Classifier\n",
    "random_forest_clf = RandomForestClassifier(n_estimators=10, \n",
    "                             max_depth=None, \n",
    "                             min_samples_split=2, \n",
    "                             random_state=0)\n",
    "\n",
    "random_forest_clf.fit( feature_matrix_train, target_train )"
   ]
  },
  {
   "cell_type": "code",
   "execution_count": 99,
   "metadata": {},
   "outputs": [
    {
     "data": {
      "text/plain": [
       "SVC(C=1.0, cache_size=200, class_weight=None, coef0=0.0,\n",
       "  decision_function_shape='ovr', degree=3, gamma='auto', kernel='rbf',\n",
       "  max_iter=-1, probability=False, random_state=None, shrinking=True,\n",
       "  tol=0.001, verbose=False)"
      ]
     },
     "execution_count": 99,
     "metadata": {},
     "output_type": "execute_result"
    }
   ],
   "source": [
    "#Next, create the SVM classifier\n",
    "svm_classifier = svm.SVC()\n",
    "svm_classifier.fit(feature_matrix_train, target_train)  "
   ]
  },
  {
   "cell_type": "markdown",
   "metadata": {},
   "source": [
    "## Comparing the Classifiers\n",
    "Now that we have two different classifiers, let's compare them and see how they perform. Fortunately, Scikit has a series of functions to generate metrics for you.  The first is the cross validation score."
   ]
  },
  {
   "cell_type": "code",
   "execution_count": 100,
   "metadata": {},
   "outputs": [
    {
     "data": {
      "text/plain": [
       "0.99993333333333334"
      ]
     },
     "execution_count": 100,
     "metadata": {},
     "output_type": "execute_result"
    }
   ],
   "source": [
    "scores = cross_val_score(random_forest_clf, feature_matrix_train, target_train)\n",
    "scores.mean()"
   ]
  },
  {
   "cell_type": "code",
   "execution_count": 105,
   "metadata": {},
   "outputs": [
    {
     "data": {
      "text/plain": [
       "1.0"
      ]
     },
     "execution_count": 105,
     "metadata": {},
     "output_type": "execute_result"
    }
   ],
   "source": [
    "scores = cross_val_score(svm_classifier, feature_matrix_train, target_train)\n",
    "scores.mean()"
   ]
  },
  {
   "cell_type": "markdown",
   "metadata": {},
   "source": [
    "We'll need to to get the predictions from both classifiers, so we add columns to the test and training sets for the predictions."
   ]
  },
  {
   "cell_type": "code",
   "execution_count": 106,
   "metadata": {},
   "outputs": [],
   "source": [
    "predictions_test = random_forest_clf.predict( feature_matrix_test )\n",
    "predictions_train = random_forest_clf.predict( feature_matrix_train )\n",
    "svm_predictions_test = svm_classifier.predict( feature_matrix_test)\n",
    "svm_predictions_train = svm_classifier.predict( feature_matrix_train)"
   ]
  },
  {
   "cell_type": "markdown",
   "metadata": {},
   "source": [
    "## Confusion Matrix\n",
    "These are a little confusing (yuk yuk), but are a very valuable tool in evaluating your models.  Scikit-learn has a function to generate a confusion matrix as shown below.  \n",
    "``` python\n",
    "confusion_matrix( target_test, predictions_test)\n",
    "```\n",
    "Try this yourself to see what the confusion matrices look like for various models."
   ]
  },
  {
   "cell_type": "code",
   "execution_count": 107,
   "metadata": {},
   "outputs": [
    {
     "data": {
      "text/plain": [
       "array([[2473,    0],\n",
       "       [   0, 2527]])"
      ]
     },
     "execution_count": 107,
     "metadata": {},
     "output_type": "execute_result"
    }
   ],
   "source": [
    "confusion_matrix( target_test, predictions_test)"
   ]
  },
  {
   "cell_type": "markdown",
   "metadata": {},
   "source": [
    "Next, try using YellowBrick to produce nicer, color coded confusion matrices.  Remember the syntax is:\n",
    "\n",
    "```python\n",
    "viz = ConfusionMatrix(RandomForestClassifier(), classes=[0,1])\n",
    "\n",
    "viz.fit(feature_matrix_train, target_train)  \n",
    "random_forest_visualizer.score(feature_matrix_test, target_test)  \n",
    "g = viz.poof()    \n",
    "```"
   ]
  },
  {
   "cell_type": "code",
   "execution_count": 108,
   "metadata": {},
   "outputs": [
    {
     "data": {
      "image/png": "[encoded data removed]",
      "text/plain": [
       "<matplotlib.figure.Figure at 0x1a19351e48>"
      ]
     },
     "metadata": {},
     "output_type": "display_data"
    }
   ],
   "source": [
    "random_forest_visualizer = ConfusionMatrix(RandomForestClassifier(), classes=[0,1])\n",
    "\n",
    "random_forest_visualizer.fit(feature_matrix_train, target_train)  \n",
    "random_forest_visualizer.score(feature_matrix_test, target_test)  \n",
    "g = random_forest_visualizer.poof()            "
   ]
  },
  {
   "cell_type": "markdown",
   "metadata": {},
   "source": [
    "And again for the SVM classifier."
   ]
  },
  {
   "cell_type": "code",
   "execution_count": 109,
   "metadata": {},
   "outputs": [
    {
     "data": {
      "image/png": "[encoded data removed]",
      "text/plain": [
       "<matplotlib.figure.Figure at 0x10b10c5c0>"
      ]
     },
     "metadata": {},
     "output_type": "display_data"
    }
   ],
   "source": [
    "svm_visualizer = ConfusionMatrix(svm.SVC(), classes=[0,1])\n",
    "\n",
    "svm_visualizer.fit(feature_matrix_train, target_train)  \n",
    "svm_visualizer.score(feature_matrix_test, target_test)  \n",
    "g = svm_visualizer.poof()            "
   ]
  },
  {
   "cell_type": "markdown",
   "metadata": {},
   "source": [
    "### Calculate precision and recall for both models\n",
    "Next, you are going to want to compare the models performance metrics.  While scikit-learn does provide all the scores as part of the metrics package, it is easier to calculate all the metrics at once using the classification report functionality.  The basic syntax is:\n",
    "\n",
    "```python\n",
    "classification_report(y_true, y_pred, target_names=target_names))\n",
    "```\n",
    "YellowBrick also has a nice classification report visualizer.  The basic syntax is below:\n",
    "```python\n",
    "visualizer = ClassificationReport(model, classes=classes)\n",
    "\n",
    "visualizer.fit(X_train, y_train)  # Fit the training data to the visualizer\n",
    "visualizer.score(X_test, y_test)  # Evaluate the model on the test data\n",
    "g = visualizer.poof()         \n",
    "```\n",
    "\n",
    "Do this for both models."
   ]
  },
  {
   "cell_type": "code",
   "execution_count": 110,
   "metadata": {},
   "outputs": [
    {
     "name": "stdout",
     "output_type": "stream",
     "text": [
      "             precision    recall  f1-score   support\n",
      "\n",
      "      legit       1.00      1.00      1.00      2473\n",
      "        DGA       1.00      1.00      1.00      2527\n",
      "\n",
      "avg / total       1.00      1.00      1.00      5000\n",
      "\n"
     ]
    }
   ],
   "source": [
    "print( classification_report(target_test, predictions_test, target_names=['legit', 'DGA']))"
   ]
  },
  {
   "cell_type": "code",
   "execution_count": 111,
   "metadata": {},
   "outputs": [
    {
     "name": "stdout",
     "output_type": "stream",
     "text": [
      "             precision    recall  f1-score   support\n",
      "\n",
      "      legit       1.00      1.00      1.00      2473\n",
      "        DGA       1.00      1.00      1.00      2527\n",
      "\n",
      "avg / total       1.00      1.00      1.00      5000\n",
      "\n"
     ]
    }
   ],
   "source": [
    "print( classification_report(target_test, svm_predictions_test, target_names=['legit', 'DGA']))"
   ]
  },
  {
   "cell_type": "code",
   "execution_count": 112,
   "metadata": {},
   "outputs": [
    {
     "data": {
      "image/png": "[encoded data removed]",
      "text/plain": [
       "<matplotlib.figure.Figure at 0x1a191b0668>"
      ]
     },
     "metadata": {},
     "output_type": "display_data"
    }
   ],
   "source": [
    "rf_clf_visualizer = ClassificationReport(RandomForestClassifier(), classes=['legit','dga'])\n",
    "\n",
    "rf_clf_visualizer.fit(feature_matrix_train, target_train)  # Fit the training data to the visualizer\n",
    "rf_clf_visualizer.score(feature_matrix_test, target_test)  # Evaluate the model on the test data\n",
    "g = rf_clf_visualizer.poof()         "
   ]
  },
  {
   "cell_type": "code",
   "execution_count": 113,
   "metadata": {},
   "outputs": [
    {
     "data": {
      "image/png": "[encoded data removed]",
      "text/plain": [
       "<matplotlib.figure.Figure at 0x1a197eb860>"
      ]
     },
     "metadata": {},
     "output_type": "display_data"
    }
   ],
   "source": [
    "svm_clf_visualizer = ClassificationReport(svm.SVC(), classes=['legit','dga'])\n",
    "\n",
    "svm_clf_visualizer.fit(feature_matrix_train, target_train)  # Fit the training data to the visualizer\n",
    "svm_clf_visualizer.score(feature_matrix_test, target_test)  # Evaluate the model on the test data\n",
    "g = svm_clf_visualizer.poof()      "
   ]
  },
  {
   "cell_type": "markdown",
   "metadata": {},
   "source": [
    "## Feature Importance\n",
    "Random Forest has a feature which can calculate the importance for each feature it uses in building the forest.  This can be calculated with  this property:`random_forest_clf.feature_importances_`."
   ]
  },
  {
   "cell_type": "code",
   "execution_count": 90,
   "metadata": {
    "collapsed": true
   },
   "outputs": [],
   "source": [
    "importances = random_forest_clf.feature_importances_"
   ]
  },
  {
   "cell_type": "code",
   "execution_count": 91,
   "metadata": {},
   "outputs": [
    {
     "data": {
      "text/plain": [
       "array([ 0.30178432,  0.08837252,  0.41345399,  0.19498576,  0.0014034 ])"
      ]
     },
     "execution_count": 91,
     "metadata": {},
     "output_type": "execute_result"
    }
   ],
   "source": [
    "importances"
   ]
  },
  {
   "cell_type": "markdown",
   "metadata": {},
   "source": [
    "You can also visualize this with the following code from: #From: http://scikit-learn.org/stable/auto_examples/ensemble/plot_forest_importances.html"
   ]
  },
  {
   "cell_type": "code",
   "execution_count": 92,
   "metadata": {},
   "outputs": [
    {
     "name": "stdout",
     "output_type": "stream",
     "text": [
      "Feature ranking:\n",
      "1. feature 2 (0.413454)\n",
      "2. feature 0 (0.301784)\n",
      "3. feature 3 (0.194986)\n",
      "4. feature 1 (0.088373)\n",
      "5. feature 4 (0.001403)\n"
     ]
    },
    {
     "data": {
      "image/png": "[encoded data removed]",
      "text/plain": [
       "<matplotlib.figure.Figure at 0x1a1934e208>"
      ]
     },
     "metadata": {},
     "output_type": "display_data"
    }
   ],
   "source": [
    "std = np.std([random_forest_clf.feature_importances_ for tree in random_forest_clf.estimators_],\n",
    "             axis=0)\n",
    "indices = np.argsort(importances)[::-1]\n",
    "\n",
    "# Print the feature ranking\n",
    "print(\"Feature ranking:\")\n",
    "\n",
    "for f in range(feature_matrix_test.shape[1]):\n",
    "    print(\"%d. feature %d (%f)\" % (f + 1, indices[f], importances[indices[f]]))\n",
    "\n",
    "# Plot the feature importances of the forest\n",
    "plt.figure()\n",
    "plt.title(\"Feature importances\")\n",
    "plt.bar(range(feature_matrix_test.shape[1]), importances[indices],\n",
    "       color=\"r\", yerr=std[indices], align=\"center\")\n",
    "plt.xticks(range(feature_matrix_test.shape[1]), indices)\n",
    "plt.xlim([-1, feature_matrix_test.shape[1]])\n",
    "plt.show()"
   ]
  },
  {
   "cell_type": "markdown",
   "metadata": {},
   "source": [
    "You can calculate the accuracy with the `metrics.accuracy()` method, and finally, there is the `metrics.classification-report()` which will calculate all the metrics except accuracy at once."
   ]
  },
  {
   "cell_type": "code",
   "execution_count": 93,
   "metadata": {},
   "outputs": [],
   "source": [
    "pscore = metrics.accuracy_score(target_test, predictions_test)\n",
    "pscore_train = metrics.accuracy_score(target_train, predictions_train)"
   ]
  },
  {
   "cell_type": "code",
   "execution_count": 94,
   "metadata": {},
   "outputs": [
    {
     "name": "stdout",
     "output_type": "stream",
     "text": [
      "               precision    recall  f1-score   support\n",
      "\n",
      "    Malicious       1.00      1.00      1.00      2473\n",
      "Not Malicious       1.00      1.00      1.00      2527\n",
      "\n",
      "  avg / total       1.00      1.00      1.00      5000\n",
      "\n"
     ]
    }
   ],
   "source": [
    "print( metrics.classification_report(target_test, predictions_test, target_names=['Malicious', 'Not Malicious'] ) )"
   ]
  },
  {
   "cell_type": "code",
   "execution_count": 95,
   "metadata": {},
   "outputs": [
    {
     "name": "stdout",
     "output_type": "stream",
     "text": [
      "               precision    recall  f1-score   support\n",
      "\n",
      "    Malicious       1.00      1.00      1.00      2473\n",
      "Not Malicious       1.00      1.00      1.00      2527\n",
      "\n",
      "  avg / total       1.00      1.00      1.00      5000\n",
      "\n"
     ]
    }
   ],
   "source": [
    "svm_pscore = metrics.accuracy_score(target_test, svm_predictions_test)\n",
    "svm_pscore_train = metrics.accuracy_score(target_train, svm_predictions_train)\n",
    "print( metrics.classification_report(target_test, svm_predictions_test, target_names=['Malicious', 'Not Malicious'] ) )"
   ]
  },
  {
   "cell_type": "code",
   "execution_count": 96,
   "metadata": {},
   "outputs": [
    {
     "name": "stdout",
     "output_type": "stream",
     "text": [
      "1.0 1.0\n"
     ]
    }
   ],
   "source": [
    "print( svm_pscore, svm_pscore_train)"
   ]
  },
  {
   "cell_type": "code",
   "execution_count": 97,
   "metadata": {},
   "outputs": [
    {
     "name": "stdout",
     "output_type": "stream",
     "text": [
      "1.0 1.0\n"
     ]
    }
   ],
   "source": [
    "print( pscore, pscore_train)"
   ]
  }
 ],
 "metadata": {
  "anaconda-cloud": {},
  "kernelspec": {
   "display_name": "Python 3",
   "language": "python",
   "name": "python3"
  },
  "language_info": {
   "codemirror_mode": {
    "name": "ipython",
    "version": 3
   },
   "file_extension": ".py",
   "mimetype": "text/x-python",
   "name": "python",
   "nbconvert_exporter": "python",
   "pygments_lexer": "ipython3",
   "version": "3.6.3"
  }
 },
 "nbformat": 4,
 "nbformat_minor": 1
}
