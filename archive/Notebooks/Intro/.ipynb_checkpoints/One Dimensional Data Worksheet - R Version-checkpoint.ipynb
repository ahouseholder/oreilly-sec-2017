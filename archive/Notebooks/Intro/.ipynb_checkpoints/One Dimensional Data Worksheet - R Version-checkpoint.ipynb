{
 "cells": [
  {
   "cell_type": "markdown",
   "metadata": {},
   "source": [
    "# One Dimensional Data Worksheet\n",
    "This worksheet reviews the concepts discussed about 1 dimensional data.  The goal for these exercises is getting you to think in terms of vectorized computing.  This worksheet should take 20-30 minutes to complete."
   ]
  },
  {
   "cell_type": "code",
   "execution_count": null,
   "metadata": {},
   "outputs": [],
   "source": [
    "# install.packages(\"devtools\")\n",
    "# devtools::install_github(\"hadley/tidyverse\")\n",
    "library(tidyverse)\n",
    "knitr::opts_chunk$set(echo=FALSE)"
   ]
  },
  {
   "cell_type": "markdown",
   "metadata": {},
   "source": [
    "## Exercise 1\n",
    "Create a data.frame with 100 random integers in a column called \"x\", then filter out odd integers.  Hint:  you can use either `sample` or `runif` with `floor` to generate integers.  Print out the first 20 numbers."
   ]
  },
  {
   "cell_type": "code",
   "execution_count": null,
   "metadata": {},
   "outputs": [],
   "source": [
    "set.seed(1)\n",
    "x <- floor(runif(100, min=1, max=100)) # or round or ceiling\n",
    "# x <- sample(100, 100, replace=TRUE)  # if replace=FALSE, it will just re-arrange 1 to 100"
   ]
  },
  {
   "cell_type": "markdown",
   "metadata": {},
   "source": [
    "## Exercise 2\n",
    "You will be given a vector containing 10 strings. Create a new vector called validPhoneNumbers that only contains data in the format (XXX)XXX-XXXX. "
   ]
  },
  {
   "cell_type": "code",
   "execution_count": null,
   "metadata": {},
   "outputs": [],
   "source": [
    "numbers <- c('(342)123-2345', '410-342-3421', '(234 434-2121', '(301)822-3423', \n",
    "             '123-234-3423', '(410)555-4443', 'AAAAHHH', '(XXX)XXX-XXXX', \n",
    "             '(602)123-4535', '(234)127-4534')\n"
   ]
  },
  {
   "cell_type": "markdown",
   "metadata": {},
   "source": [
    "## Exercise 3\n",
    "The code below contains a function which converts a temperature from Farenheit to Celsius.  You are given a vector called temperatures in Farhenheit.  Using the `sapply()` function, convert the data into degrees Celsius. "
   ]
  },
  {
   "cell_type": "code",
   "execution_count": null,
   "metadata": {},
   "outputs": [],
   "source": [
    "toCelsius <- function(x) ((5/9)*x-32)\n",
    "\n",
    "tempsF <- c(92, 33, -5, 17, 122, 87) "
   ]
  },
  {
   "cell_type": "markdown",
   "metadata": {},
   "source": [
    "## Exercise 4\n",
    "\n",
    "You are given a list of numbers called `numList`. Count the occurance of each value (`?table`)."
   ]
  },
  {
   "cell_type": "code",
   "execution_count": null,
   "metadata": {},
   "outputs": [],
   "source": [
    "numList <- c(1,1,1,1,1,2,4,5,7,5,4,5,6,4,3,5,5,5,6,9,0,7,6,7,5,4,4,7)"
   ]
  }
 ],
 "metadata": {
  "kernelspec": {
   "display_name": "R",
   "language": "R",
   "name": "ir"
  },
  "language_info": {
   "codemirror_mode": "r",
   "file_extension": ".r",
   "mimetype": "text/x-r-source",
   "name": "R",
   "pygments_lexer": "r",
   "version": "3.4.1"
  }
 },
 "nbformat": 4,
 "nbformat_minor": 2
}
