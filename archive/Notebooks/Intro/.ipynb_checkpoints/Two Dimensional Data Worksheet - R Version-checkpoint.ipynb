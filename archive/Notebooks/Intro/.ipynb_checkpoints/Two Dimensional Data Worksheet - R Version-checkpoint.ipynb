{
 "cells": [
  {
   "cell_type": "markdown",
   "metadata": {},
   "source": [
    "# Two Dimensional Data Worksheet\n",
    "\n",
    "This worksheet focuses on manipulating two dimensional data using R."
   ]
  },
  {
   "cell_type": "code",
   "execution_count": null,
   "metadata": {},
   "outputs": [],
   "source": [
    "# install.packages(\"devtools\")\n",
    "# devtools::install_github(\"hadley/tidyverse\")\n",
    "library(tidyverse)\n",
    "knitr::opts_chunk$set(echo=FALSE)"
   ]
  },
  {
   "cell_type": "markdown",
   "metadata": {},
   "source": [
    "Create a dataframe called `twitter` from the CSV file\n",
    "\n",
    "_Note if this is breaking your machine there is a smaller data set in the data file called twitter1-small.csv_"
   ]
  },
  {
   "cell_type": "code",
   "execution_count": null,
   "metadata": {},
   "outputs": [],
   "source": [
    "twitter <- read_csv( '../../Data/twitter1.csv')"
   ]
  },
  {
   "cell_type": "markdown",
   "metadata": {},
   "source": [
    "## Exercise 1\n",
    "\n",
    "Using the twitter data frame, count the appearances of each `Username`, get the top 10 active users and output the sorted result.\n",
    "\n",
    "1. Start with `dplyr::count` on `Username`\n",
    "2. Grab the top 10 with `dplyr_top_n`\n",
    "3. sort with `dplyr::arrange`, can make it descending by wrapping the sort variable with `desc()`"
   ]
  },
  {
   "cell_type": "code",
   "execution_count": null,
   "metadata": {},
   "outputs": [],
   "source": []
  },
  {
   "cell_type": "markdown",
   "metadata": {},
   "source": [
    "## Exercise 2\n",
    "Using the original twitter data set, create a second DataFrame called `twitterSummary` which contains the following columns:\n",
    "\n",
    "* Username\n",
    "* Friends \n",
    "* Followers\n",
    "\n",
    "Next add a column called `ffratio` which contains the ratio of friends to followers.  Show the first few lines."
   ]
  },
  {
   "cell_type": "code",
   "execution_count": null,
   "metadata": {},
   "outputs": [],
   "source": []
  },
  {
   "cell_type": "markdown",
   "metadata": {},
   "source": [
    "## Exercise 3\n",
    "\n",
    "In the `data` folder, there is file called `studentData.csv` consisting of students and test scores.  Write a script which calculates each students' average test score and adds that as a column to the DataFrame.  \n",
    "\n",
    "The first person to tell me which student has the highest average test score, and what it is wins something.\n"
   ]
  },
  {
   "cell_type": "code",
   "execution_count": null,
   "metadata": {
    "collapsed": true
   },
   "outputs": [],
   "source": []
  },
  {
   "cell_type": "markdown",
   "metadata": {},
   "source": [
    "## Exercise 4\n",
    "Using the twitter data, find all the users with Facebook accounts and create a new column called `FacebookID` which contains the users' Facebook ID.  As you can see in the URL below, a user's Facebook ID can be found in the URL column, http://www.facebook.com/profile.php?id=5141860.  Extract this the ID. Don't forget to remove all the invalid or empty IDs.  \n",
    "\n",
    "1. Use the Function supplied to extract \"?id=<numbers>\" from the URL\n",
    "    + Note the function does not filter for facebook, so you will have to prefilter the data for facebook, try using `dplyr::filter` with `grepl` inside the function.\n",
    "2. Once complete, filter out the data where the FacebookID is not NA (`!is.na()`).\n",
    "\n",
    "_Note: there are a lot of [ways to pull a substring from a string](http://stackoverflow.com/questions/2192316/extract-a-regular-expression-match-in-r-version-2-10):_"
   ]
  },
  {
   "cell_type": "code",
   "execution_count": null,
   "metadata": {
    "collapsed": true
   },
   "outputs": [],
   "source": []
  }
 ],
 "metadata": {
  "kernelspec": {
   "display_name": "R",
   "language": "R",
   "name": "ir"
  },
  "language_info": {
   "codemirror_mode": "r",
   "file_extension": ".r",
   "mimetype": "text/x-r-source",
   "name": "R",
   "pygments_lexer": "r",
   "version": "3.4.1"
  }
 },
 "nbformat": 4,
 "nbformat_minor": 2
}
