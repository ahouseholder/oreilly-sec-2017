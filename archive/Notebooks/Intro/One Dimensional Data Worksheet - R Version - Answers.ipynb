{
 "cells": [
  {
   "cell_type": "markdown",
   "metadata": {},
   "source": [
    "# One Dimensional Data Worksheet\n",
    "This worksheet reviews the concepts discussed about 1 dimensional data.  The goal for these exercises is getting you to think in terms of vectorized computing.  This worksheet should take 20-30 minutes to complete."
   ]
  },
  {
   "cell_type": "code",
   "execution_count": 1,
   "metadata": {},
   "outputs": [
    {
     "name": "stderr",
     "output_type": "stream",
     "text": [
      "Loading tidyverse: ggplot2\n",
      "Loading tidyverse: tibble\n",
      "Loading tidyverse: tidyr\n",
      "Loading tidyverse: readr\n",
      "Loading tidyverse: purrr\n",
      "Loading tidyverse: dplyr\n",
      "Conflicts with tidy packages ---------------------------------------------------\n",
      "filter(): dplyr, stats\n",
      "lag():    dplyr, stats\n"
     ]
    }
   ],
   "source": [
    "# install.packages(\"devtools\")\n",
    "# devtools::install_github(\"hadley/tidyverse\")\n",
    "library(tidyverse)\n",
    "knitr::opts_chunk$set(echo=FALSE)"
   ]
  },
  {
   "cell_type": "markdown",
   "metadata": {},
   "source": [
    "## Exercise 1\n",
    "Create a data.frame with 100 random integers in a column called \"x\", then filter out odd integers.  Hint:  you can use either `sample` or `runif` with `floor` to generate integers.  Print out the first 20 numbers."
   ]
  },
  {
   "cell_type": "code",
   "execution_count": 2,
   "metadata": {},
   "outputs": [
    {
     "name": "stdout",
     "output_type": "stream",
     "text": [
      " [1] 27 37 57 89 63  7 21 69 39 77 99 77 93 65 13 27 39 87 49 19\n"
     ]
    }
   ],
   "source": [
    "set.seed(1)\n",
    "x <- floor(runif(100, min=1, max=100)) # or round or ceiling\n",
    "# x <- sample(100, 100, replace=TRUE)  # if replace=FALSE, it will just re-arrange 1 to 100\n",
    "\n",
    "oddnum <- x[x %% 2 == 1]\n",
    "print(oddnum[1:20])  # or head(oddnum, 20)"
   ]
  },
  {
   "cell_type": "markdown",
   "metadata": {},
   "source": [
    "## Exercise 2\n",
    "You will be given a vector containing 10 strings. Create a new vector called validPhoneNumbers that only contains data in the format (XXX)XXX-XXXX. "
   ]
  },
  {
   "cell_type": "code",
   "execution_count": 3,
   "metadata": {},
   "outputs": [
    {
     "name": "stdout",
     "output_type": "stream",
     "text": [
      "[1] \"(342)123-2345\" \"(301)822-3423\" \"(410)555-4443\" \"(602)123-4535\"\n",
      "[5] \"(234)127-4534\"\n"
     ]
    }
   ],
   "source": [
    "numbers <- c('(342)123-2345', '410-342-3421', '(234 434-2121', '(301)822-3423', \n",
    "             '123-234-3423', '(410)555-4443', 'AAAAHHH', '(XXX)XXX-XXXX', \n",
    "             '(602)123-4535', '(234)127-4534')\n",
    "\n",
    "phone <- grep('\\\\(\\\\d{3}\\\\)\\\\d{3}-\\\\d{4}', numbers, value = TRUE)\n",
    "# OR\n",
    "# phone <- numbers[grep('\\\\(\\\\d{3}\\\\)\\\\d{3}-\\\\d{4}', numbers)]\n",
    "print(phone)"
   ]
  },
  {
   "cell_type": "markdown",
   "metadata": {},
   "source": [
    "## Exercise 3\n",
    "The code below contains a function which converts a temperature from Farenheit to Celsius.  You are given a vector called temperatures in Farhenheit.  Using the `sapply()` function, convert the data into degrees Celsius. "
   ]
  },
  {
   "cell_type": "code",
   "execution_count": 4,
   "metadata": {},
   "outputs": [
    {
     "name": "stdout",
     "output_type": "stream",
     "text": [
      "[1]  19.11111 -13.66667 -34.77778 -22.55556  35.77778  16.33333\n"
     ]
    }
   ],
   "source": [
    "toCelsius <- function(x) ((5/9)*x-32)\n",
    "\n",
    "tempsF <- c(92, 33, -5, 17, 122, 87) \n",
    "tempsC <- sapply(tempsF, toCelsius)\n",
    "print(tempsC)"
   ]
  },
  {
   "cell_type": "markdown",
   "metadata": {},
   "source": [
    "## Exercise 4\n",
    "\n",
    "You are given a list of numbers called `numList`. Count the occurance of each value (`?table`)."
   ]
  },
  {
   "cell_type": "code",
   "execution_count": 5,
   "metadata": {},
   "outputs": [
    {
     "data": {
      "text/plain": [
       "numList\n",
       "0 1 2 3 4 5 6 7 9 \n",
       "1 5 1 1 5 7 3 4 1 "
      ]
     },
     "metadata": {},
     "output_type": "display_data"
    }
   ],
   "source": [
    "numList <- c(1,1,1,1,1,2,4,5,7,5,4,5,6,4,3,5,5,5,6,9,0,7,6,7,5,4,4,7)\n",
    "table(numList)"
   ]
  }
 ],
 "metadata": {
  "kernelspec": {
   "display_name": "R",
   "language": "R",
   "name": "ir"
  },
  "language_info": {
   "codemirror_mode": "r",
   "file_extension": ".r",
   "mimetype": "text/x-r-source",
   "name": "R",
   "pygments_lexer": "r",
   "version": "3.4.1"
  }
 },
 "nbformat": 4,
 "nbformat_minor": 2
}
