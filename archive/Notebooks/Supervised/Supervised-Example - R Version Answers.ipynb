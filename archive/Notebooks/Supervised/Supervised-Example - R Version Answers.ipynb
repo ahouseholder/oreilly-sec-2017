{
 "cells": [
  {
   "cell_type": "markdown",
   "metadata": {},
   "source": [
    "Load up Libraries..."
   ]
  },
  {
   "cell_type": "code",
   "execution_count": 1,
   "metadata": {},
   "outputs": [
    {
     "name": "stderr",
     "output_type": "stream",
     "text": [
      "Loading tidyverse: ggplot2\n",
      "Loading tidyverse: tibble\n",
      "Loading tidyverse: tidyr\n",
      "Loading tidyverse: readr\n",
      "Loading tidyverse: purrr\n",
      "Loading tidyverse: dplyr\n",
      "Conflicts with tidy packages ---------------------------------------------------\n",
      "filter(): dplyr, stats\n",
      "lag():    dplyr, stats\n",
      "Loading required package: lattice\n",
      "\n",
      "Attaching package: ‘caret’\n",
      "\n",
      "The following object is masked from ‘package:purrr’:\n",
      "\n",
      "    lift\n",
      "\n",
      "randomForest 4.6-12\n",
      "Type rfNews() to see new features/changes/bug fixes.\n",
      "\n",
      "Attaching package: ‘randomForest’\n",
      "\n",
      "The following object is masked from ‘package:dplyr’:\n",
      "\n",
      "    combine\n",
      "\n",
      "The following object is masked from ‘package:ggplot2’:\n",
      "\n",
      "    margin\n",
      "\n"
     ]
    },
    {
     "ename": "ERROR",
     "evalue": "Error in library(kernlab): there is no package called ‘kernlab’\n",
     "output_type": "error",
     "traceback": [
      "Error in library(kernlab): there is no package called ‘kernlab’\nTraceback:\n",
      "1. library(kernlab)",
      "2. stop(txt, domain = NA)"
     ]
    }
   ],
   "source": [
    "library(tidyverse)\n",
    "library(caret)\n",
    "library(randomForest)  # random forest, caret will load this automatically\n",
    "library(kernlab) # SVM, caret will load this automatically"
   ]
  },
  {
   "cell_type": "markdown",
   "metadata": {},
   "source": [
    "Load up the data, be sure to set the target variable as a factor (For R)"
   ]
  },
  {
   "cell_type": "code",
   "execution_count": 3,
   "metadata": {},
   "outputs": [
    {
     "name": "stderr",
     "output_type": "stream",
     "text": [
      "Parsed with column specification:\n",
      "cols(\n",
      "  dsrc = col_character(),\n",
      "  domain = col_character(),\n",
      "  length = col_integer(),\n",
      "  dicts = col_double(),\n",
      "  entropy = col_double(),\n",
      "  numbers = col_integer(),\n",
      "  ngram = col_double()\n",
      ")\n"
     ]
    }
   ],
   "source": [
    "dga <- read_csv(\"../../Data/dga-full.csv\") %>%\n",
    "  mutate(dsrc = factor(dsrc))"
   ]
  },
  {
   "cell_type": "markdown",
   "metadata": {},
   "source": [
    "### Split data into a training and testing data set\n",
    "\n",
    "Within `caret` the function `createDataPartition` can take in a vector, \n",
    "usually the class you want to predict on, so it can stratify the selection. In other words, \n",
    "if you have an unbalanced class, with 60% of one class and 40% of another,\n",
    "`createDataPartition` will split with the same proportions, so the training data has the\n",
    "same 60/40 split. \n",
    "\n",
    "For this, let's create a rather small training data se as it will reduce the time to train up a model.  \n",
    "Feel free to try a 15%, 20% or even a 30% portion for the training data (lower percentages for slower machines).\n",
    "\n",
    "In this example, we will split 30% for train and 70% for test.\n",
    "\n",
    "Normally you would want most of the data in the training data, but more training data can considerably extend\n",
    "the time neede to train up a model. \n",
    "\n",
    "### Just extract the data for \"alexa\" and \"gameoverdga\"\n",
    "\n",
    "We will be creating a two-class classifier."
   ]
  },
  {
   "cell_type": "code",
   "execution_count": 4,
   "metadata": {
    "collapsed": true
   },
   "outputs": [],
   "source": [
    "dga2 <- dga %>% \n",
    "  mutate(dsrc = as.character(dsrc)) %>% \n",
    "  dplyr::filter(dsrc %in% c(\"alexa\", \"gameoverdga\")) %>% \n",
    "  mutate(dsrc = factor(dsrc))\n",
    "\n",
    "# for 30/70 train/test, set p = 0.3, or p= 0.15 for 15% split\n",
    "set.seed(1) # make the split repeatable\n",
    "trainrows <- createDataPartition(dga2$dsrc, p = 0.2, list = FALSE)\n",
    "\n",
    "traindata <- dga2[trainrows, ]\n",
    "testdata <- dga2[-trainrows, ]"
   ]
  },
  {
   "cell_type": "markdown",
   "metadata": {},
   "source": [
    "### Train both a Random Forest and Support Vector Machine on these. \n",
    "\n",
    "Traing the first model using Random Forest, and the second for a Support Vector Machine.\n",
    "\n",
    "We will compare the two and see which performs better on the data."
   ]
  },
  {
   "cell_type": "code",
   "execution_count": 11,
   "metadata": {},
   "outputs": [
    {
     "name": "stdout",
     "output_type": "stream",
     "text": [
      "Random Forest \n",
      "\n",
      "4000 samples\n",
      "   5 predictor\n",
      "   2 classes: 'alexa', 'gameoverdga' \n",
      "\n",
      "No pre-processing\n",
      "Resampling: Cross-Validated (10 fold, repeated 5 times) \n",
      "Summary of sample sizes: 3600, 3600, 3600, 3600, 3600, 3600, ... \n",
      "Resampling results across tuning parameters:\n",
      "\n",
      "  mtry  Accuracy  Kappa \n",
      "  2     0.99975   0.9995\n",
      "  3     0.99970   0.9994\n",
      "  5     0.99975   0.9995\n",
      "\n",
      "Accuracy was used to select the optimal model using  the largest value.\n",
      "The final value used for the model was mtry = 2.\n"
     ]
    },
    {
     "name": "stderr",
     "output_type": "stream",
     "text": [
      "Loading required package: kernlab\n",
      "\n",
      "Attaching package: ‘kernlab’\n",
      "\n",
      "The following object is masked from ‘package:ggplot2’:\n",
      "\n",
      "    alpha\n",
      "\n"
     ]
    },
    {
     "name": "stdout",
     "output_type": "stream",
     "text": [
      "Support Vector Machines with Radial Basis Function Kernel \n",
      "\n",
      "4000 samples\n",
      "   5 predictor\n",
      "   2 classes: 'alexa', 'gameoverdga' \n",
      "\n",
      "Pre-processing: centered (5), scaled (5) \n",
      "Resampling: Cross-Validated (10 fold, repeated 5 times) \n",
      "Summary of sample sizes: 3600, 3600, 3600, 3600, 3600, 3600, ... \n",
      "Resampling results across tuning parameters:\n",
      "\n",
      "  C       Accuracy  Kappa\n",
      "    0.25  1         1    \n",
      "    0.50  1         1    \n",
      "    1.00  1         1    \n",
      "    2.00  1         1    \n",
      "    4.00  1         1    \n",
      "    8.00  1         1    \n",
      "   16.00  1         1    \n",
      "   32.00  1         1    \n",
      "   64.00  1         1    \n",
      "  128.00  1         1    \n",
      "\n",
      "Tuning parameter 'sigma' was held constant at a value of 1.351336\n",
      "Accuracy was used to select the optimal model using  the largest value.\n",
      "The final values used for the model were sigma = 1.351336 and C = 0.25.\n"
     ]
    }
   ],
   "source": [
    "ctrl <- trainControl(method=\"repeatedcv\", # do cross validation\n",
    "                     repeats=5, # 5 folds\n",
    "                     classProbs=TRUE)  # save the probabilities (may speed up if FALSE)\n",
    "\n",
    "# remember random forsts do no need to be scaled at all\n",
    "rfFit <- train(dsrc ~ length + dicts + entropy + numbers + ngram,\n",
    "               data = traindata,\n",
    "               method = \"rf\",\n",
    "               trControl = ctrl)\n",
    "print(rfFit)\n",
    "svmFit <- train(dsrc ~ length + dicts + entropy + numbers + ngram,\n",
    "                data = traindata,\n",
    "                method = \"svmRadial\",\n",
    "                preProc = c(\"center\", \"scale\"), # data for SVM can't be on totally different scales, so scale the input data\n",
    "                tuneLength = 10,\n",
    "                trControl = ctrl)\n",
    "print(svmFit)"
   ]
  },
  {
   "cell_type": "markdown",
   "metadata": {},
   "source": [
    "### Look at the confusion matrix on the Random Forest model using the test data "
   ]
  },
  {
   "cell_type": "code",
   "execution_count": 12,
   "metadata": {},
   "outputs": [
    {
     "name": "stdout",
     "output_type": "stream",
     "text": [
      "Confusion Matrix and Statistics\n",
      "\n",
      "             Reference\n",
      "Prediction    alexa gameoverdga\n",
      "  alexa        7999           0\n",
      "  gameoverdga     1        8000\n",
      "                                     \n",
      "               Accuracy : 0.9999     \n",
      "                 95% CI : (0.9997, 1)\n",
      "    No Information Rate : 0.5        \n",
      "    P-Value [Acc > NIR] : <2e-16     \n",
      "                                     \n",
      "                  Kappa : 0.9999     \n",
      " Mcnemar's Test P-Value : 1          \n",
      "                                     \n",
      "            Sensitivity : 0.9999     \n",
      "            Specificity : 1.0000     \n",
      "         Pos Pred Value : 1.0000     \n",
      "         Neg Pred Value : 0.9999     \n",
      "             Prevalence : 0.5000     \n",
      "         Detection Rate : 0.4999     \n",
      "   Detection Prevalence : 0.4999     \n",
      "      Balanced Accuracy : 0.9999     \n",
      "                                     \n",
      "       'Positive' Class : alexa      \n",
      "                                     \n"
     ]
    }
   ],
   "source": [
    "print(confusionMatrix(predict(rfFit, testdata), testdata$dsrc))"
   ]
  },
  {
   "cell_type": "markdown",
   "metadata": {},
   "source": [
    "### Look at the confusion matrix on the SVM model using the test data "
   ]
  },
  {
   "cell_type": "code",
   "execution_count": 14,
   "metadata": {},
   "outputs": [
    {
     "name": "stdout",
     "output_type": "stream",
     "text": [
      "Confusion Matrix and Statistics\n",
      "\n",
      "             Reference\n",
      "Prediction    alexa gameoverdga\n",
      "  alexa        8000           0\n",
      "  gameoverdga     0        8000\n",
      "                                     \n",
      "               Accuracy : 1          \n",
      "                 95% CI : (0.9998, 1)\n",
      "    No Information Rate : 0.5        \n",
      "    P-Value [Acc > NIR] : < 2.2e-16  \n",
      "                                     \n",
      "                  Kappa : 1          \n",
      " Mcnemar's Test P-Value : NA         \n",
      "                                     \n",
      "            Sensitivity : 1.0        \n",
      "            Specificity : 1.0        \n",
      "         Pos Pred Value : 1.0        \n",
      "         Neg Pred Value : 1.0        \n",
      "             Prevalence : 0.5        \n",
      "         Detection Rate : 0.5        \n",
      "   Detection Prevalence : 0.5        \n",
      "      Balanced Accuracy : 1.0        \n",
      "                                     \n",
      "       'Positive' Class : alexa      \n",
      "                                     \n"
     ]
    }
   ],
   "source": [
    "print(confusionMatrix(predict(svmFit, testdata), testdata$dsrc))"
   ]
  },
  {
   "cell_type": "markdown",
   "metadata": {},
   "source": [
    "Which one looks better?\n",
    "\n",
    "### Look at the variable importance in the Random Forest Model"
   ]
  },
  {
   "cell_type": "code",
   "execution_count": 15,
   "metadata": {},
   "outputs": [
    {
     "data": {},
     "metadata": {},
     "output_type": "display_data"
    },
    {
     "data": {
      "image/png": "[encoded data removed]",
      "text/plain": [
       "plot without title"
      ]
     },
     "metadata": {},
     "output_type": "display_data"
    }
   ],
   "source": [
    "plot(varImp(rfFit))"
   ]
  },
  {
   "cell_type": "markdown",
   "metadata": {},
   "source": [
    "### For Fun, look at the predicted probabilities.\n",
    "\n",
    "Could even plot the predicted probabilities using a density (or histogram) plot."
   ]
  },
  {
   "cell_type": "code",
   "execution_count": 16,
   "metadata": {},
   "outputs": [
    {
     "data": {
      "text/plain": [
       "     alexa         gameoverdga    \n",
       " Min.   :0.0000   Min.   :0.0000  \n",
       " 1st Qu.:0.0000   1st Qu.:0.0000  \n",
       " Median :0.4290   Median :0.5710  \n",
       " Mean   :0.5001   Mean   :0.4999  \n",
       " 3rd Qu.:1.0000   3rd Qu.:1.0000  \n",
       " Max.   :1.0000   Max.   :1.0000  "
      ]
     },
     "metadata": {},
     "output_type": "display_data"
    }
   ],
   "source": [
    "rez <- predict(rfFit, testdata, type=\"prob\")\n",
    "summary(rez)"
   ]
  },
  {
   "cell_type": "markdown",
   "metadata": {},
   "source": [
    "\n",
    "Note the above summary shows two probabilities, the probability the observation\n",
    "is from \"alexa\" and the probability the observation is from \"gameoverdga\".  They \n",
    "should add up to 1.  \n",
    "\n",
    "So, if we just take one column, like the `gameoverdga` column, it will tell us the probability of the domain being a DGA.  I will grab just that column, but then separate it into the \n",
    "ground truth, so we see the probability of a domain being a DGA when it is or is not a DGA."
   ]
  },
  {
   "cell_type": "code",
   "execution_count": 17,
   "metadata": {},
   "outputs": [
    {
     "data": {
      "text/plain": [
       "     alexa            gameoverdga    \n",
       " Min.   :0.0000000   Min.   :0.5160  \n",
       " 1st Qu.:0.0000000   1st Qu.:1.0000  \n",
       " Median :0.0000000   Median :1.0000  \n",
       " Mean   :0.0006145   Mean   :0.9993  \n",
       " 3rd Qu.:0.0000000   3rd Qu.:1.0000  \n",
       " Max.   :0.9840000   Max.   :1.0000  "
      ]
     },
     "metadata": {},
     "output_type": "display_data"
    }
   ],
   "source": [
    "# add in the real label\n",
    "rez$dsrc <- testdata$dsrc\n",
    "\n",
    "### look at spread of just the \"gameoverdga\" value by the dsrc\n",
    "rez %>% \n",
    "  # group by dsrc so we can number them\n",
    "  group_by(dsrc) %>% \n",
    "  # the row numbers will make the final even compact\n",
    "  mutate(rownum = row_number()) %>% \n",
    "  select(-alexa) %>% \n",
    "  spread(dsrc, gameoverdga) %>% \n",
    "  select(-rownum) %>% \n",
    "  summary"
   ]
  }
 ],
 "metadata": {
  "kernelspec": {
   "display_name": "R",
   "language": "R",
   "name": "ir"
  },
  "language_info": {
   "codemirror_mode": "r",
   "file_extension": ".r",
   "mimetype": "text/x-r-source",
   "name": "R",
   "pygments_lexer": "r",
   "version": "3.4.1"
  }
 },
 "nbformat": 4,
 "nbformat_minor": 2
}
