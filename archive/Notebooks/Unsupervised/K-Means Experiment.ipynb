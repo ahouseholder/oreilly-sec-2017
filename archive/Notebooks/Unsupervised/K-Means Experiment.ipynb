{
 "cells": [
  {
   "cell_type": "code",
   "execution_count": 13,
   "metadata": {
    "collapsed": true
   },
   "outputs": [],
   "source": [
    "import pandas as pd\n",
    "from sklearn.cluster import KMeans\n",
    "from sklearn.preprocessing import StandardScaler"
   ]
  },
  {
   "cell_type": "code",
   "execution_count": 10,
   "metadata": {},
   "outputs": [],
   "source": [
    "data = pd.read_csv('../../Data/dga-full.csv')"
   ]
  },
  {
   "cell_type": "code",
   "execution_count": 11,
   "metadata": {},
   "outputs": [
    {
     "data": {
      "text/html": [
       "<div>\n",
       "<style>\n",
       "    .dataframe thead tr:only-child th {\n",
       "        text-align: right;\n",
       "    }\n",
       "\n",
       "    .dataframe thead th {\n",
       "        text-align: left;\n",
       "    }\n",
       "\n",
       "    .dataframe tbody tr th {\n",
       "        vertical-align: top;\n",
       "    }\n",
       "</style>\n",
       "<table border=\"1\" class=\"dataframe\">\n",
       "  <thead>\n",
       "    <tr style=\"text-align: right;\">\n",
       "      <th></th>\n",
       "      <th>dsrc</th>\n",
       "      <th>domain</th>\n",
       "      <th>length</th>\n",
       "      <th>dicts</th>\n",
       "      <th>entropy</th>\n",
       "      <th>numbers</th>\n",
       "      <th>ngram</th>\n",
       "    </tr>\n",
       "  </thead>\n",
       "  <tbody>\n",
       "    <tr>\n",
       "      <th>8501</th>\n",
       "      <td>cryptolocker</td>\n",
       "      <td>dqapqlgmgctibfj</td>\n",
       "      <td>15</td>\n",
       "      <td>0.533333</td>\n",
       "      <td>3.640224</td>\n",
       "      <td>0</td>\n",
       "      <td>1.278754</td>\n",
       "    </tr>\n",
       "    <tr>\n",
       "      <th>36802</th>\n",
       "      <td>nivdort</td>\n",
       "      <td>songpure</td>\n",
       "      <td>8</td>\n",
       "      <td>1.000000</td>\n",
       "      <td>3.000000</td>\n",
       "      <td>0</td>\n",
       "      <td>6.537517</td>\n",
       "    </tr>\n",
       "    <tr>\n",
       "      <th>24931</th>\n",
       "      <td>necurs</td>\n",
       "      <td>wooebamvjxumkxhqyc</td>\n",
       "      <td>18</td>\n",
       "      <td>0.388889</td>\n",
       "      <td>3.836592</td>\n",
       "      <td>0</td>\n",
       "      <td>2.363612</td>\n",
       "    </tr>\n",
       "    <tr>\n",
       "      <th>15463</th>\n",
       "      <td>gameoverdga</td>\n",
       "      <td>fgvyqd1v8qfl916uziixfj39jg</td>\n",
       "      <td>26</td>\n",
       "      <td>0.000000</td>\n",
       "      <td>3.979098</td>\n",
       "      <td>7</td>\n",
       "      <td>0.000000</td>\n",
       "    </tr>\n",
       "    <tr>\n",
       "      <th>45412</th>\n",
       "      <td>alexa</td>\n",
       "      <td>towerrecords</td>\n",
       "      <td>12</td>\n",
       "      <td>1.000000</td>\n",
       "      <td>2.855389</td>\n",
       "      <td>0</td>\n",
       "      <td>17.899801</td>\n",
       "    </tr>\n",
       "  </tbody>\n",
       "</table>\n",
       "</div>"
      ],
      "text/plain": [
       "               dsrc                      domain  length     dicts   entropy  \\\n",
       "8501   cryptolocker             dqapqlgmgctibfj      15  0.533333  3.640224   \n",
       "36802       nivdort                    songpure       8  1.000000  3.000000   \n",
       "24931        necurs          wooebamvjxumkxhqyc      18  0.388889  3.836592   \n",
       "15463   gameoverdga  fgvyqd1v8qfl916uziixfj39jg      26  0.000000  3.979098   \n",
       "45412         alexa                towerrecords      12  1.000000  2.855389   \n",
       "\n",
       "       numbers      ngram  \n",
       "8501         0   1.278754  \n",
       "36802        0   6.537517  \n",
       "24931        0   2.363612  \n",
       "15463        7   0.000000  \n",
       "45412        0  17.899801  "
      ]
     },
     "execution_count": 11,
     "metadata": {},
     "output_type": "execute_result"
    }
   ],
   "source": [
    "data.sample(5)"
   ]
  },
  {
   "cell_type": "code",
   "execution_count": 22,
   "metadata": {
    "collapsed": true
   },
   "outputs": [],
   "source": [
    "feature_columns = ['length', 'dicts','entropy','numbers','ngram']\n",
    "scaled_feature_columns = ['scaled_length', 'scaled_dicts','scaled_entropy','scaled_numbers','scaled_ngram']"
   ]
  },
  {
   "cell_type": "code",
   "execution_count": 23,
   "metadata": {
    "collapsed": true
   },
   "outputs": [],
   "source": [
    "scaler = StandardScaler()\n",
    "scaled_df = scaler.fit_transform(data[feature_columns])\n",
    "scaled_df = pd.DataFrame(scaled_df, columns=scaled_feature_columns)"
   ]
  },
  {
   "cell_type": "code",
   "execution_count": 24,
   "metadata": {},
   "outputs": [
    {
     "data": {
      "text/html": [
       "<div>\n",
       "<style>\n",
       "    .dataframe thead tr:only-child th {\n",
       "        text-align: right;\n",
       "    }\n",
       "\n",
       "    .dataframe thead th {\n",
       "        text-align: left;\n",
       "    }\n",
       "\n",
       "    .dataframe tbody tr th {\n",
       "        vertical-align: top;\n",
       "    }\n",
       "</style>\n",
       "<table border=\"1\" class=\"dataframe\">\n",
       "  <thead>\n",
       "    <tr style=\"text-align: right;\">\n",
       "      <th></th>\n",
       "      <th>scaled_length</th>\n",
       "      <th>scaled_dicts</th>\n",
       "      <th>scaled_entropy</th>\n",
       "      <th>scaled_numbers</th>\n",
       "      <th>scaled_ngram</th>\n",
       "    </tr>\n",
       "  </thead>\n",
       "  <tbody>\n",
       "    <tr>\n",
       "      <th>51823</th>\n",
       "      <td>-0.277145</td>\n",
       "      <td>1.144799</td>\n",
       "      <td>0.540150</td>\n",
       "      <td>-0.498385</td>\n",
       "      <td>2.100328</td>\n",
       "    </tr>\n",
       "    <tr>\n",
       "      <th>35043</th>\n",
       "      <td>-0.933453</td>\n",
       "      <td>1.144799</td>\n",
       "      <td>-1.265204</td>\n",
       "      <td>-0.498385</td>\n",
       "      <td>0.253893</td>\n",
       "    </tr>\n",
       "    <tr>\n",
       "      <th>14156</th>\n",
       "      <td>1.429253</td>\n",
       "      <td>-1.075955</td>\n",
       "      <td>1.418903</td>\n",
       "      <td>1.210521</td>\n",
       "      <td>-0.680919</td>\n",
       "    </tr>\n",
       "    <tr>\n",
       "      <th>20960</th>\n",
       "      <td>1.560515</td>\n",
       "      <td>-0.790038</td>\n",
       "      <td>1.377990</td>\n",
       "      <td>0.640886</td>\n",
       "      <td>-0.089887</td>\n",
       "    </tr>\n",
       "    <tr>\n",
       "      <th>45251</th>\n",
       "      <td>-0.277145</td>\n",
       "      <td>0.721798</td>\n",
       "      <td>-0.090780</td>\n",
       "      <td>-0.498385</td>\n",
       "      <td>2.997810</td>\n",
       "    </tr>\n",
       "    <tr>\n",
       "      <th>14937</th>\n",
       "      <td>1.691776</td>\n",
       "      <td>-1.015526</td>\n",
       "      <td>1.559517</td>\n",
       "      <td>1.210521</td>\n",
       "      <td>-0.722434</td>\n",
       "    </tr>\n",
       "    <tr>\n",
       "      <th>47491</th>\n",
       "      <td>-0.670930</td>\n",
       "      <td>1.144799</td>\n",
       "      <td>-0.537386</td>\n",
       "      <td>-0.498385</td>\n",
       "      <td>0.417293</td>\n",
       "    </tr>\n",
       "    <tr>\n",
       "      <th>19557</th>\n",
       "      <td>1.429253</td>\n",
       "      <td>-1.287455</td>\n",
       "      <td>1.867059</td>\n",
       "      <td>1.020643</td>\n",
       "      <td>-0.811719</td>\n",
       "    </tr>\n",
       "    <tr>\n",
       "      <th>46337</th>\n",
       "      <td>-1.327237</td>\n",
       "      <td>1.144799</td>\n",
       "      <td>-2.262367</td>\n",
       "      <td>-0.498385</td>\n",
       "      <td>-0.179989</td>\n",
       "    </tr>\n",
       "    <tr>\n",
       "      <th>9137</th>\n",
       "      <td>-0.014622</td>\n",
       "      <td>0.228297</td>\n",
       "      <td>0.241666</td>\n",
       "      <td>-0.498385</td>\n",
       "      <td>-0.034064</td>\n",
       "    </tr>\n",
       "  </tbody>\n",
       "</table>\n",
       "</div>"
      ],
      "text/plain": [
       "       scaled_length  scaled_dicts  scaled_entropy  scaled_numbers  \\\n",
       "51823      -0.277145      1.144799        0.540150       -0.498385   \n",
       "35043      -0.933453      1.144799       -1.265204       -0.498385   \n",
       "14156       1.429253     -1.075955        1.418903        1.210521   \n",
       "20960       1.560515     -0.790038        1.377990        0.640886   \n",
       "45251      -0.277145      0.721798       -0.090780       -0.498385   \n",
       "14937       1.691776     -1.015526        1.559517        1.210521   \n",
       "47491      -0.670930      1.144799       -0.537386       -0.498385   \n",
       "19557       1.429253     -1.287455        1.867059        1.020643   \n",
       "46337      -1.327237      1.144799       -2.262367       -0.498385   \n",
       "9137       -0.014622      0.228297        0.241666       -0.498385   \n",
       "\n",
       "       scaled_ngram  \n",
       "51823      2.100328  \n",
       "35043      0.253893  \n",
       "14156     -0.680919  \n",
       "20960     -0.089887  \n",
       "45251      2.997810  \n",
       "14937     -0.722434  \n",
       "47491      0.417293  \n",
       "19557     -0.811719  \n",
       "46337     -0.179989  \n",
       "9137      -0.034064  "
      ]
     },
     "execution_count": 24,
     "metadata": {},
     "output_type": "execute_result"
    }
   ],
   "source": [
    "scaled_df.sample(10)"
   ]
  },
  {
   "cell_type": "code",
   "execution_count": 27,
   "metadata": {},
   "outputs": [],
   "source": [
    "final_data = pd.merge( data, scaled_df, left_index=True, right_index=True)"
   ]
  },
  {
   "cell_type": "code",
   "execution_count": 33,
   "metadata": {},
   "outputs": [
    {
     "name": "stdout",
     "output_type": "stream",
     "text": [
      "[[ 1.56899145 -1.17177795  1.22510555  1.5429584  -0.63406745]\n",
      " [-0.49760996  0.3716326  -0.3885456  -0.4893535   0.20109624]]\n",
      "[0 0 0 ..., 1 1 1]\n"
     ]
    }
   ],
   "source": [
    "kmeans = KMeans(n_clusters=2).fit(final_data[scaled_feature_columns])\n",
    "\n",
    "centroids = kmeans.cluster_centers_\n",
    "labels = kmeans.labels_\n",
    "\n",
    "print(centroids)\n",
    "print(labels)"
   ]
  },
  {
   "cell_type": "code",
   "execution_count": 34,
   "metadata": {},
   "outputs": [
    {
     "data": {
      "text/plain": [
       "gameoverdga     10000\n",
       "alexa           10000\n",
       "necurs          10000\n",
       "cryptolocker    10000\n",
       "nivdort          9978\n",
       "bamital          2500\n",
       "Name: dsrc, dtype: int64"
      ]
     },
     "execution_count": 34,
     "metadata": {},
     "output_type": "execute_result"
    }
   ],
   "source": [
    "final_data.dsrc.value_counts()"
   ]
  },
  {
   "cell_type": "code",
   "execution_count": 40,
   "metadata": {
    "collapsed": true
   },
   "outputs": [],
   "source": [
    "final_data['cluster_id'] = kmeans.labels_"
   ]
  },
  {
   "cell_type": "code",
   "execution_count": 41,
   "metadata": {},
   "outputs": [
    {
     "data": {
      "text/plain": [
       "1    39842\n",
       "0    12636\n",
       "Name: cluster_id, dtype: int64"
      ]
     },
     "execution_count": 41,
     "metadata": {},
     "output_type": "execute_result"
    }
   ],
   "source": [
    "final_data['cluster_id'].value_counts()"
   ]
  },
  {
   "cell_type": "code",
   "execution_count": 47,
   "metadata": {},
   "outputs": [
    {
     "data": {
      "text/plain": [
       "cryptolocker    10000\n",
       "alexa            9997\n",
       "nivdort          9978\n",
       "necurs           9860\n",
       "gameoverdga         7\n",
       "Name: dsrc, dtype: int64"
      ]
     },
     "execution_count": 47,
     "metadata": {},
     "output_type": "execute_result"
    }
   ],
   "source": [
    "final_data[final_data['cluster_id'] == 1]['dsrc'].value_counts()"
   ]
  },
  {
   "cell_type": "code",
   "execution_count": 48,
   "metadata": {},
   "outputs": [
    {
     "data": {
      "text/plain": [
       "gameoverdga    9993\n",
       "bamital        2500\n",
       "necurs          140\n",
       "alexa             3\n",
       "Name: dsrc, dtype: int64"
      ]
     },
     "execution_count": 48,
     "metadata": {},
     "output_type": "execute_result"
    }
   ],
   "source": [
    "final_data[final_data['cluster_id'] == 0]['dsrc'].value_counts()"
   ]
  },
  {
   "cell_type": "code",
   "execution_count": null,
   "metadata": {
    "collapsed": true
   },
   "outputs": [],
   "source": []
  }
 ],
 "metadata": {
  "kernelspec": {
   "display_name": "Python 3",
   "language": "python",
   "name": "python3"
  },
  "language_info": {
   "codemirror_mode": {
    "name": "ipython",
    "version": 3
   },
   "file_extension": ".py",
   "mimetype": "text/x-python",
   "name": "python",
   "nbconvert_exporter": "python",
   "pygments_lexer": "ipython3",
   "version": "3.6.2"
  }
 },
 "nbformat": 4,
 "nbformat_minor": 2
}
