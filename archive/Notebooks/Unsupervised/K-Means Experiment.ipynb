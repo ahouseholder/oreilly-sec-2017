{
 "cells": [
  {
   "cell_type": "code",
   "execution_count": 1,
   "metadata": {
    "collapsed": true
   },
   "outputs": [],
   "source": [
    "import pandas as pd\n",
    "from sklearn.cluster import KMeans\n",
    "from sklearn.preprocessing import StandardScaler\n",
    "from yellowbrick.cluster import KElbowVisualizer, SilhouetteVisualizer\n",
    "import pandas as pd\n",
    "import matplotlib.pyplot as plt\n",
    "from matplotlib import style\n",
    "style.use(\"ggplot\")\n",
    "%matplotlib inline"
   ]
  },
  {
   "cell_type": "markdown",
   "metadata": {},
   "source": [
    "# K-Means Clustering Example\n",
    "In this example notebook, you will see how to implement K-Means Clustering in Python using Scikit-Learn and Pandas. \n",
    "Adapted from https://pythonprogramming.net/flat-clustering-machine-learning-python-scikit-learn/\n",
    "\n",
    "## Step 1:  Get Data:\n",
    "The first step is to prepare or generate the data.  In this dataset, the observations only have two features, but K-Means can be used with any number of features.  Since this is an unsupervised example, it is not necessary to have a \"target\" column."
   ]
  },
  {
   "cell_type": "code",
   "execution_count": 2,
   "metadata": {},
   "outputs": [
    {
     "name": "stdout",
     "output_type": "stream",
     "text": [
      "     x     y\n",
      "0  1.0   2.0\n",
      "1  5.0   8.0\n",
      "2  1.5   1.8\n",
      "3  8.0   8.0\n",
      "4  1.0   0.6\n",
      "5  9.0  11.0\n"
     ]
    }
   ],
   "source": [
    "data = pd.DataFrame([[1, 2],\n",
    "              [5, 8],\n",
    "              [1.5, 1.8],\n",
    "              [8, 8],\n",
    "              [1, 0.6],\n",
    "              [9, 11]], columns=['x','y'])\n",
    "print( data )"
   ]
  },
  {
   "cell_type": "markdown",
   "metadata": {},
   "source": [
    "## Step 2:  Build the Model:\n",
    "Much like the supervised models, you first create the model then call the `.fit()` method using your data source.  The model is now populated with both your centroids and labels.  These can be accessed via the `.cluster_centers_` and `labels_` properties respectively.\n",
    "\n",
    "You can view the complete documentation here: http://scikit-learn.org/stable/modules/generated/sklearn.cluster.KMeans.html\n",
    "\n",
    "K-Means also has a `.predict()` method which can be used to predict the label for an observation."
   ]
  },
  {
   "cell_type": "code",
   "execution_count": 3,
   "metadata": {},
   "outputs": [
    {
     "name": "stdout",
     "output_type": "stream",
     "text": [
      "[[ 7.33333333  9.        ]\n",
      " [ 1.16666667  1.46666667]]\n",
      "[1 0 1 0 1 0]\n"
     ]
    }
   ],
   "source": [
    "kmeans = KMeans(n_clusters=2).fit(data)\n",
    "\n",
    "centroids = kmeans.cluster_centers_\n",
    "labels = kmeans.labels_\n",
    "\n",
    "print(centroids)\n",
    "print(labels)"
   ]
  },
  {
   "cell_type": "markdown",
   "metadata": {},
   "source": [
    "# Visualizing the Clusters\n",
    "The code below visualizes the clusters.  "
   ]
  },
  {
   "cell_type": "code",
   "execution_count": 4,
   "metadata": {},
   "outputs": [
    {
     "data": {
      "image/png": "[encoded data removed]",
      "text/plain": [
       "<matplotlib.figure.Figure at 0x10c7eb860>"
      ]
     },
     "metadata": {},
     "output_type": "display_data"
    }
   ],
   "source": [
    "data['labels'] = labels\n",
    "\n",
    "#plt.plot(data, colors[data['labels'], markersize = 10)\n",
    "\n",
    "group1 = data[data['labels']==1].plot( kind='scatter', x='x', y='y',  s=100, color='DarkGreen', label=\"Group 1\" )\n",
    "group2 = data[data['labels']==0].plot( kind='scatter', x='x', y='y', s=100,color='Brown', ax=group1, label=\"Group 2\" )\n",
    "group1.legend(loc='upper center', bbox_to_anchor=(0.5, 1.05),\n",
    "          ncol=3, fancybox=True, shadow=True)\n",
    "plt.scatter(centroids[:, 0],centroids[:, 1], marker = \"x\", s=150, linewidths = 5, zorder = 10)\n",
    "\n",
    "plt.show()"
   ]
  },
  {
   "cell_type": "markdown",
   "metadata": {},
   "source": [
    "# Clustering with Real Data\n",
    "Now that you've tried K-means on some generated data, let's try it on some real data and see what we can produce. As before the first step is to read in the data into a DataFrame.  \n",
    "\n",
    "We will be using this data later, but the dataset consists of approximately 6000 domains--5000 of which were generated by various botnets and 1000 are from the Alexa 1 Million.  The columns are:\n",
    "\n",
    "* `dsrc`:  The source of the domain\n",
    "* `domain`:  The actual domain\n",
    "* `length`:  The length of the domain\n",
    "* `dicts`:  Percentage containing dictionary words\n",
    "* `entropy`:  The entropy of the domain\n",
    "* `numbers`:  The number of digits in the domain\n",
    "* `ngram`:  Different n-grams which appear in the domain (?)"
   ]
  },
  {
   "cell_type": "code",
   "execution_count": 5,
   "metadata": {},
   "outputs": [
    {
     "data": {
      "text/html": [
       "<div>\n",
       "<style>\n",
       "    .dataframe thead tr:only-child th {\n",
       "        text-align: right;\n",
       "    }\n",
       "\n",
       "    .dataframe thead th {\n",
       "        text-align: left;\n",
       "    }\n",
       "\n",
       "    .dataframe tbody tr th {\n",
       "        vertical-align: top;\n",
       "    }\n",
       "</style>\n",
       "<table border=\"1\" class=\"dataframe\">\n",
       "  <thead>\n",
       "    <tr style=\"text-align: right;\">\n",
       "      <th></th>\n",
       "      <th>dsrc</th>\n",
       "      <th>domain</th>\n",
       "      <th>length</th>\n",
       "      <th>dicts</th>\n",
       "      <th>entropy</th>\n",
       "      <th>numbers</th>\n",
       "      <th>ngram</th>\n",
       "    </tr>\n",
       "  </thead>\n",
       "  <tbody>\n",
       "    <tr>\n",
       "      <th>38067</th>\n",
       "      <td>nivdort</td>\n",
       "      <td>wrongdance</td>\n",
       "      <td>10</td>\n",
       "      <td>1.000000</td>\n",
       "      <td>3.121928</td>\n",
       "      <td>0</td>\n",
       "      <td>8.989752</td>\n",
       "    </tr>\n",
       "    <tr>\n",
       "      <th>27559</th>\n",
       "      <td>necurs</td>\n",
       "      <td>djgtlpepyaw</td>\n",
       "      <td>11</td>\n",
       "      <td>0.727273</td>\n",
       "      <td>3.277613</td>\n",
       "      <td>0</td>\n",
       "      <td>0.477121</td>\n",
       "    </tr>\n",
       "    <tr>\n",
       "      <th>3158</th>\n",
       "      <td>cryptolocker</td>\n",
       "      <td>leyafuhcxashxpr</td>\n",
       "      <td>15</td>\n",
       "      <td>0.400000</td>\n",
       "      <td>3.506891</td>\n",
       "      <td>0</td>\n",
       "      <td>3.702431</td>\n",
       "    </tr>\n",
       "    <tr>\n",
       "      <th>26784</th>\n",
       "      <td>necurs</td>\n",
       "      <td>qlyqtpicdvjnvvlsdbiih</td>\n",
       "      <td>21</td>\n",
       "      <td>0.476190</td>\n",
       "      <td>3.653757</td>\n",
       "      <td>0</td>\n",
       "      <td>1.778151</td>\n",
       "    </tr>\n",
       "    <tr>\n",
       "      <th>21762</th>\n",
       "      <td>gameoverdga</td>\n",
       "      <td>idiw201uu4fkm1asdyem11eh1rw</td>\n",
       "      <td>27</td>\n",
       "      <td>0.222222</td>\n",
       "      <td>3.880456</td>\n",
       "      <td>8</td>\n",
       "      <td>2.477121</td>\n",
       "    </tr>\n",
       "  </tbody>\n",
       "</table>\n",
       "</div>"
      ],
      "text/plain": [
       "               dsrc                       domain  length     dicts   entropy  \\\n",
       "38067       nivdort                   wrongdance      10  1.000000  3.121928   \n",
       "27559        necurs                  djgtlpepyaw      11  0.727273  3.277613   \n",
       "3158   cryptolocker              leyafuhcxashxpr      15  0.400000  3.506891   \n",
       "26784        necurs        qlyqtpicdvjnvvlsdbiih      21  0.476190  3.653757   \n",
       "21762   gameoverdga  idiw201uu4fkm1asdyem11eh1rw      27  0.222222  3.880456   \n",
       "\n",
       "       numbers     ngram  \n",
       "38067        0  8.989752  \n",
       "27559        0  0.477121  \n",
       "3158         0  3.702431  \n",
       "26784        0  1.778151  \n",
       "21762        8  2.477121  "
      ]
     },
     "execution_count": 5,
     "metadata": {},
     "output_type": "execute_result"
    }
   ],
   "source": [
    "data = pd.read_csv('../../Data/dga-full.csv')\n",
    "data.sample(5)"
   ]
  },
  {
   "cell_type": "markdown",
   "metadata": {},
   "source": [
    "## Scaling the Data\n",
    "Since clustering relies on measuring distances between objects it is important that all data points be on the same scale.  There are various methods for doing this, which are beyond the scope of this class, however, for this example, we will use scikit-learn's `StandardScaler` to accomplish this.  (http://scikit-learn.org/stable/modules/generated/sklearn.preprocessing.StandardScaler.html)\n",
    "\n",
    "The StandardScaler transforms each column by:\n",
    "* Subtracting from the element in each row the mean for each feature (column) and then taking this value and\n",
    "* Dividing by that feature's (column's) standard deviation.\n",
    "\n",
    "Scikit-learn has a transformer interface which is very similar to the other scikit-learn interfaces.  The basic steps are:\n",
    "1.  Create the Scaler object\n",
    "2.  Using the feature matrix, call the `.fit()` method to \"train\" the Scaler\n",
    "3.  Use the `.transform()` method to scale the data.\n",
    "\n",
    "**NOTE**: When using a Scaler, it is important to train the scaler on your data, and use this trained scalers on any future predictions. "
   ]
  },
  {
   "cell_type": "code",
   "execution_count": 6,
   "metadata": {
    "collapsed": true
   },
   "outputs": [],
   "source": [
    "feature_columns = ['length', 'dicts','entropy','numbers','ngram']\n",
    "scaled_feature_columns = ['scaled_length', 'scaled_dicts','scaled_entropy','scaled_numbers','scaled_ngram']"
   ]
  },
  {
   "cell_type": "code",
   "execution_count": 7,
   "metadata": {
    "collapsed": true
   },
   "outputs": [],
   "source": [
    "#Step 1:  Create the scaler\n",
    "scaler = StandardScaler()\n",
    "\n",
    "#Steps 2 & 3:  Fit the scaler and transform this data\n",
    "scaled_df = scaler.fit_transform(data[feature_columns])\n",
    "\n",
    "#Put the scaled data into a dataframe\n",
    "scaled_df = pd.DataFrame(scaled_df, columns=scaled_feature_columns)"
   ]
  },
  {
   "cell_type": "markdown",
   "metadata": {},
   "source": [
    "Take a look at the data and you'll see that the data is now all scaled consistently. "
   ]
  },
  {
   "cell_type": "code",
   "execution_count": 8,
   "metadata": {
    "scrolled": true
   },
   "outputs": [
    {
     "data": {
      "text/html": [
       "<div>\n",
       "<style>\n",
       "    .dataframe thead tr:only-child th {\n",
       "        text-align: right;\n",
       "    }\n",
       "\n",
       "    .dataframe thead th {\n",
       "        text-align: left;\n",
       "    }\n",
       "\n",
       "    .dataframe tbody tr th {\n",
       "        vertical-align: top;\n",
       "    }\n",
       "</style>\n",
       "<table border=\"1\" class=\"dataframe\">\n",
       "  <thead>\n",
       "    <tr style=\"text-align: right;\">\n",
       "      <th></th>\n",
       "      <th>scaled_length</th>\n",
       "      <th>scaled_dicts</th>\n",
       "      <th>scaled_entropy</th>\n",
       "      <th>scaled_numbers</th>\n",
       "      <th>scaled_ngram</th>\n",
       "    </tr>\n",
       "  </thead>\n",
       "  <tbody>\n",
       "    <tr>\n",
       "      <th>48879</th>\n",
       "      <td>-0.014622</td>\n",
       "      <td>1.144799</td>\n",
       "      <td>0.471663</td>\n",
       "      <td>-0.498385</td>\n",
       "      <td>1.275656</td>\n",
       "    </tr>\n",
       "    <tr>\n",
       "      <th>20519</th>\n",
       "      <td>1.429253</td>\n",
       "      <td>-1.604706</td>\n",
       "      <td>1.601677</td>\n",
       "      <td>1.400399</td>\n",
       "      <td>-0.811719</td>\n",
       "    </tr>\n",
       "    <tr>\n",
       "      <th>40289</th>\n",
       "      <td>-0.933453</td>\n",
       "      <td>1.144799</td>\n",
       "      <td>-0.833959</td>\n",
       "      <td>-0.498385</td>\n",
       "      <td>0.301333</td>\n",
       "    </tr>\n",
       "    <tr>\n",
       "      <th>16983</th>\n",
       "      <td>1.560515</td>\n",
       "      <td>-1.299205</td>\n",
       "      <td>1.602223</td>\n",
       "      <td>1.400399</td>\n",
       "      <td>-0.642722</td>\n",
       "    </tr>\n",
       "    <tr>\n",
       "      <th>17630</th>\n",
       "      <td>1.297992</td>\n",
       "      <td>-1.274765</td>\n",
       "      <td>1.690828</td>\n",
       "      <td>1.020643</td>\n",
       "      <td>-0.811719</td>\n",
       "    </tr>\n",
       "    <tr>\n",
       "      <th>33486</th>\n",
       "      <td>-0.933453</td>\n",
       "      <td>1.144799</td>\n",
       "      <td>-0.833959</td>\n",
       "      <td>-0.498385</td>\n",
       "      <td>0.440167</td>\n",
       "    </tr>\n",
       "    <tr>\n",
       "      <th>37011</th>\n",
       "      <td>-0.933453</td>\n",
       "      <td>1.144799</td>\n",
       "      <td>-0.833959</td>\n",
       "      <td>-0.498385</td>\n",
       "      <td>0.114683</td>\n",
       "    </tr>\n",
       "    <tr>\n",
       "      <th>9454</th>\n",
       "      <td>-0.145884</td>\n",
       "      <td>-1.015526</td>\n",
       "      <td>0.250681</td>\n",
       "      <td>-0.498385</td>\n",
       "      <td>-0.811719</td>\n",
       "    </tr>\n",
       "    <tr>\n",
       "      <th>21700</th>\n",
       "      <td>1.297992</td>\n",
       "      <td>-1.604706</td>\n",
       "      <td>1.138834</td>\n",
       "      <td>1.400399</td>\n",
       "      <td>-0.642722</td>\n",
       "    </tr>\n",
       "    <tr>\n",
       "      <th>29487</th>\n",
       "      <td>0.116639</td>\n",
       "      <td>-0.573642</td>\n",
       "      <td>0.028532</td>\n",
       "      <td>-0.498385</td>\n",
       "      <td>-0.722434</td>\n",
       "    </tr>\n",
       "  </tbody>\n",
       "</table>\n",
       "</div>"
      ],
      "text/plain": [
       "       scaled_length  scaled_dicts  scaled_entropy  scaled_numbers  \\\n",
       "48879      -0.014622      1.144799        0.471663       -0.498385   \n",
       "20519       1.429253     -1.604706        1.601677        1.400399   \n",
       "40289      -0.933453      1.144799       -0.833959       -0.498385   \n",
       "16983       1.560515     -1.299205        1.602223        1.400399   \n",
       "17630       1.297992     -1.274765        1.690828        1.020643   \n",
       "33486      -0.933453      1.144799       -0.833959       -0.498385   \n",
       "37011      -0.933453      1.144799       -0.833959       -0.498385   \n",
       "9454       -0.145884     -1.015526        0.250681       -0.498385   \n",
       "21700       1.297992     -1.604706        1.138834        1.400399   \n",
       "29487       0.116639     -0.573642        0.028532       -0.498385   \n",
       "\n",
       "       scaled_ngram  \n",
       "48879      1.275656  \n",
       "20519     -0.811719  \n",
       "40289      0.301333  \n",
       "16983     -0.642722  \n",
       "17630     -0.811719  \n",
       "33486      0.440167  \n",
       "37011      0.114683  \n",
       "9454      -0.811719  \n",
       "21700     -0.642722  \n",
       "29487     -0.722434  "
      ]
     },
     "execution_count": 8,
     "metadata": {},
     "output_type": "execute_result"
    }
   ],
   "source": [
    "scaled_df.sample(10)"
   ]
  },
  {
   "cell_type": "markdown",
   "metadata": {},
   "source": [
    "Finally for convenience, we're going to merge the scaled data with the non-scaled data.  "
   ]
  },
  {
   "cell_type": "code",
   "execution_count": 9,
   "metadata": {
    "collapsed": true
   },
   "outputs": [],
   "source": [
    "final_data = pd.merge( data, scaled_df, left_index=True, right_index=True)"
   ]
  },
  {
   "cell_type": "markdown",
   "metadata": {},
   "source": [
    "### Your Turn!\n",
    "Now that we have data that is suitable (maybe) for clustering, in the section below, perform K-Means clustering on this data set.  Initially, start out with 2 clusters and assign the cluster id as a column in your DataFrame.\n",
    "\n",
    "Then do a `value_counts()` on the `dsrc` column for each cluster to see how the model divided the data.  Try various values for `k` to see how it performed.\n",
    "\n",
    "Remember to use the scaled features ONLY for your clustering.  "
   ]
  },
  {
   "cell_type": "code",
   "execution_count": 10,
   "metadata": {},
   "outputs": [
    {
     "name": "stdout",
     "output_type": "stream",
     "text": [
      "[[ 1.56899145 -1.17177795  1.22510555  1.5429584  -0.63406745]\n",
      " [-0.49760996  0.3716326  -0.3885456  -0.4893535   0.20109624]]\n",
      "[0 0 0 ..., 1 1 1]\n"
     ]
    }
   ],
   "source": [
    "## Your code here...\n",
    "\n",
    "kmeans = KMeans(n_clusters=2).fit(final_data[scaled_feature_columns])\n",
    "\n",
    "centroids = kmeans.cluster_centers_\n",
    "labels = kmeans.labels_\n",
    "\n",
    "print(centroids)\n",
    "print(labels)"
   ]
  },
  {
   "cell_type": "code",
   "execution_count": 11,
   "metadata": {},
   "outputs": [
    {
     "data": {
      "text/plain": [
       "gameoverdga     10000\n",
       "alexa           10000\n",
       "necurs          10000\n",
       "cryptolocker    10000\n",
       "nivdort          9978\n",
       "bamital          2500\n",
       "Name: dsrc, dtype: int64"
      ]
     },
     "execution_count": 11,
     "metadata": {},
     "output_type": "execute_result"
    }
   ],
   "source": [
    "final_data['dsrc'].value_counts()"
   ]
  },
  {
   "cell_type": "code",
   "execution_count": 12,
   "metadata": {
    "collapsed": true
   },
   "outputs": [],
   "source": [
    "final_data['cluster_id'] = kmeans.labels_"
   ]
  },
  {
   "cell_type": "code",
   "execution_count": 13,
   "metadata": {},
   "outputs": [
    {
     "data": {
      "text/plain": [
       "1    39842\n",
       "0    12636\n",
       "Name: cluster_id, dtype: int64"
      ]
     },
     "execution_count": 13,
     "metadata": {},
     "output_type": "execute_result"
    }
   ],
   "source": [
    "final_data['cluster_id'].value_counts()"
   ]
  },
  {
   "cell_type": "code",
   "execution_count": 14,
   "metadata": {},
   "outputs": [
    {
     "data": {
      "text/plain": [
       "cryptolocker    10000\n",
       "alexa            9997\n",
       "nivdort          9978\n",
       "necurs           9860\n",
       "gameoverdga         7\n",
       "Name: dsrc, dtype: int64"
      ]
     },
     "execution_count": 14,
     "metadata": {},
     "output_type": "execute_result"
    }
   ],
   "source": [
    "final_data[final_data['cluster_id'] == 1]['dsrc'].value_counts()"
   ]
  },
  {
   "cell_type": "code",
   "execution_count": 15,
   "metadata": {},
   "outputs": [
    {
     "data": {
      "text/plain": [
       "gameoverdga    9993\n",
       "bamital        2500\n",
       "necurs          140\n",
       "alexa             3\n",
       "Name: dsrc, dtype: int64"
      ]
     },
     "execution_count": 15,
     "metadata": {},
     "output_type": "execute_result"
    }
   ],
   "source": [
    "final_data[final_data['cluster_id'] == 0]['dsrc'].value_counts()"
   ]
  },
  {
   "cell_type": "markdown",
   "metadata": {
    "collapsed": true
   },
   "source": [
    "## Visualizing Performance\n",
    "As we already know, it is difficult to measure the performance of clustering models since there usually is no known ground truth from which to evaluate your model.  However, there are two techniques which \n",
    "\n",
    "The K-Elbow Visualizer implements the “elbow” method of selecting the optimal number of clusters for K-means clustering. K-means is a simple unsupervised machine learning algorithm that groups data into a specified number (k) of clusters. Because the user must specify in advance what k to choose, the algorithm is somewhat naive – it assigns all members to k clusters even if that is not the right k for the dataset.\n",
    "\n",
    "The elbow method runs k-means clustering on the dataset for a range of values for k (say from 1-10) and then for each value of k computes an average score for all clusters. By default, the distortion_score is computed, the sum of square distances from each point to its assigned center. Other metrics can also be used such as the silhouette_score, the mean silhouette coefficient for all samples or the calinski_harabaz_score, which computes the ratio of dispersion between and within clusters.\n",
    "\n",
    "When these overall metrics for each model are plotted, it is possible to visually determine the best value for K. If the line chart looks like an arm, then the “elbow” (the point of inflection on the curve) is the best value of k. The “arm” can be either up or down, but if there is a strong inflection point, it is a good indication that the underlying model fits best at that point. (http://www.scikit-yb.org/en/latest/api/cluster/elbow.html)\n",
    "\n",
    "In python there is a module called `YellowBrick` which facilitates visualizing the K-Elbow score.  All of YellowBrick's visualizations follow essentually the same pattern:\n",
    "\n",
    "1.  Create the Visualizer Object\n",
    "2.  Call the `.fit()` method using the data\n",
    "3.  Call the `.poof()` method to render the visualization\n",
    "\n",
    "The snippet below demonstrates how to use the elbow method to visualize the clustering model's performance on this dataset.\n",
    "```python\n",
    "visualizer = KElbowVisualizer(KMeans(), k=(4,12))\n",
    "\n",
    "visualizer.fit( feature_matrix ) \n",
    "visualizer.poof()\n",
    "```\n",
    "\n",
    "### Your Turn!\n",
    "In the box below, create a visualization using the elbow method to see if there are any inflection points in the distortion score."
   ]
  },
  {
   "cell_type": "code",
   "execution_count": 16,
   "metadata": {},
   "outputs": [
    {
     "data": {
      "image/png": "[encoded data removed]",
      "text/plain": [
       "<matplotlib.figure.Figure at 0x10e4d2e10>"
      ]
     },
     "metadata": {},
     "output_type": "display_data"
    }
   ],
   "source": [
    "# Your code here...\n",
    "visualizer = KElbowVisualizer(KMeans(), k=(2,10))\n",
    "\n",
    "visualizer.fit(final_data[scaled_feature_columns])\n",
    "visualizer.poof()"
   ]
  },
  {
   "cell_type": "markdown",
   "metadata": {},
   "source": [
    "## Another Way to Visualize Clustering Performance\n",
    "The Silhouette Coefficient is used when the ground-truth about the dataset is unknown and computes the density of clusters computed by the model. The score is computed by averaging the silhouette coefficient for each sample, computed as the difference between the average intra-cluster distance and the mean nearest-cluster distance for each sample, normalized by the maximum value. This produces a score between 1 and -1, where 1 is highly dense clusters and -1 is completely incorrect clustering. (http://www.scikit-yb.org/en/latest/api/cluster/silhouette.html)\n",
    "\n",
    "\n",
    "### Your Turn!\n",
    "Using the YellowBrick `SilhouetteVisualizer`, try visualizing models with various values of `K`.\n",
    "\n",
    "**Note**:  This visualization is quite expensive, so I recommend performing this using a sample o your original data."
   ]
  },
  {
   "cell_type": "code",
   "execution_count": 19,
   "metadata": {},
   "outputs": [
    {
     "data": {
      "image/png": "[encoded data removed]",
      "text/plain": [
       "<matplotlib.figure.Figure at 0x10e834160>"
      ]
     },
     "metadata": {},
     "output_type": "display_data"
    }
   ],
   "source": [
    "# Your code here...\n",
    "visualizer = SilhouetteVisualizer( KMeans(n_clusters=3))\n",
    "\n",
    "visualizer.fit(final_data[scaled_feature_columns].sample(10000))\n",
    "visualizer.poof()"
   ]
  },
  {
   "cell_type": "code",
   "execution_count": null,
   "metadata": {
    "collapsed": true
   },
   "outputs": [],
   "source": []
  }
 ],
 "metadata": {
  "kernelspec": {
   "display_name": "Python 3",
   "language": "python",
   "name": "python3"
  },
  "language_info": {
   "codemirror_mode": {
    "name": "ipython",
    "version": 3
   },
   "file_extension": ".py",
   "mimetype": "text/x-python",
   "name": "python",
   "nbconvert_exporter": "python",
   "pygments_lexer": "ipython3",
   "version": "3.6.2"
  }
 },
 "nbformat": 4,
 "nbformat_minor": 2
}
