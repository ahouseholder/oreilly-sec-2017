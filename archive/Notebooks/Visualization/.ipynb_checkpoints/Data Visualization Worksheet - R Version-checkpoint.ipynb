{
 "cells": [
  {
   "cell_type": "code",
   "execution_count": null,
   "metadata": {},
   "outputs": [],
   "source": [
    "library(tidyverse)"
   ]
  },
  {
   "cell_type": "markdown",
   "metadata": {},
   "source": [
    "# Data Visualization Worksheet\n",
    "This worksheet will walk you through the basic process of preparing a visualization using R/ggplot2.  \n",
    "\n",
    "For this exercise, we will be creating a line plot comparing the number of hosts infected by the Bedep and ConfickerAB Bot Families in the Government/Politic sector.\n",
    "\n",
    "## Prepare the data\n",
    "The data we will be using is in the `dailybots.csv` file which can be found in the `data` folder.  As is common, we will have to do some data wrangling to get it into a format which we can use to visualize this data.  To do that, we'll need to:\n",
    "1.  Read in the data\n",
    "2.  Filter the data by industry and botnet\n",
    "\n",
    "###  Step 1 Read in the data"
   ]
  },
  {
   "cell_type": "code",
   "execution_count": null,
   "metadata": {},
   "outputs": [],
   "source": [
    "bots <- read_csv('../../Data/dailybots.csv')"
   ]
  },
  {
   "cell_type": "markdown",
   "metadata": {},
   "source": [
    "### Step 2: Filter the Data\n",
    "The next step is to filter both by industry and by botfam. Filter for \"Government/Politics\" in the industry, and then bot family should be either ConfickerAB or Bedep."
   ]
  },
  {
   "cell_type": "code",
   "execution_count": null,
   "metadata": {},
   "outputs": [],
   "source": []
  },
  {
   "cell_type": "markdown",
   "metadata": {},
   "source": [
    "### pretty it up (1)\n",
    "\n",
    "* Apply `theme_bw()` to the plot,\n",
    "* Move the legend to the bottom (look at ?theme for 'legend_position')"
   ]
  },
  {
   "cell_type": "code",
   "execution_count": null,
   "metadata": {},
   "outputs": [],
   "source": []
  },
  {
   "cell_type": "markdown",
   "metadata": {},
   "source": [
    "### Make it Bigger\n",
    "\n",
    "You won't see any difference unless you \"Knit\" the document, but the image size \n",
    "can be set in the {r} tag."
   ]
  },
  {
   "cell_type": "code",
   "execution_count": null,
   "metadata": {},
   "outputs": [],
   "source": []
  },
  {
   "cell_type": "markdown",
   "metadata": {},
   "source": [
    "### Interactive\n",
    "\n",
    "We won't go to interactive graphics quite yet, but if you wanted to look for an interactive option, see\n",
    "[HTML Widgets](http://www.htmlwidgets.org/showcase_dygraphs.html).\n",
    "http://rstudio.github.io/dygraphs"
   ]
  }
 ],
 "metadata": {
  "kernelspec": {
   "display_name": "R",
   "language": "R",
   "name": "ir"
  },
  "language_info": {
   "codemirror_mode": "r",
   "file_extension": ".r",
   "mimetype": "text/x-r-source",
   "name": "R",
   "pygments_lexer": "r",
   "version": "3.4.1"
  }
 },
 "nbformat": 4,
 "nbformat_minor": 2
}
