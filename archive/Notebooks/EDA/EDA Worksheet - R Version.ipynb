{
 "cells": [
  {
   "cell_type": "code",
   "execution_count": 2,
   "metadata": {
    "scrolled": true
   },
   "outputs": [
    {
     "name": "stderr",
     "output_type": "stream",
     "text": [
      "Loading tidyverse: ggplot2\n",
      "Loading tidyverse: tibble\n",
      "Loading tidyverse: tidyr\n",
      "Loading tidyverse: readr\n",
      "Loading tidyverse: purrr\n",
      "Loading tidyverse: dplyr\n",
      "Conflicts with tidy packages ---------------------------------------------------\n",
      "filter(): dplyr, stats\n",
      "lag():    dplyr, stats\n"
     ]
    }
   ],
   "source": [
    "# install.packages(\"devtools\")\n",
    "# devtools::install_github(\"hadley/tidyverse\")\n",
    "library(tidyverse)"
   ]
  },
  {
   "cell_type": "markdown",
   "metadata": {},
   "source": [
    "### First, load up the data\n",
    "\n",
    "First you're going to want to create a data frame from the dailybots.csv file which can be found in the data directory. You should be able to do this with the read_csv() function from the `readr` package (loaded with `tidyverse`). Take a minute to look at the dataframe because we are going to be using it for this entire worksheet."
   ]
  },
  {
   "cell_type": "code",
   "execution_count": 4,
   "metadata": {},
   "outputs": [
    {
     "name": "stderr",
     "output_type": "stream",
     "text": [
      "Parsed with column specification:\n",
      "cols(\n",
      "  date = col_date(format = \"\"),\n",
      "  botfam = col_character(),\n",
      "  industry = col_character(),\n",
      "  hosts = col_integer(),\n",
      "  orgs = col_integer()\n",
      ")\n"
     ]
    },
    {
     "data": {
      "text/plain": [
       "      date               botfam            industry             hosts       \n",
       " Min.   :2016-06-01   Length:4969        Length:4969        Min.   :   1.0  \n",
       " 1st Qu.:2016-06-22   Class :character   Class :character   1st Qu.:  10.0  \n",
       " Median :2016-07-15   Mode  :character   Mode  :character   Median :  38.0  \n",
       " Mean   :2016-07-14                                         Mean   : 142.3  \n",
       " 3rd Qu.:2016-08-06                                         3rd Qu.: 187.0  \n",
       " Max.   :2016-08-29                                         Max.   :2031.0  \n",
       "      orgs       \n",
       " Min.   :  1.00  \n",
       " 1st Qu.:  3.00  \n",
       " Median :  7.00  \n",
       " Mean   : 15.31  \n",
       " 3rd Qu.: 16.00  \n",
       " Max.   :122.00  "
      ]
     },
     "metadata": {},
     "output_type": "display_data"
    },
    {
     "data": {
      "text/html": [
       "<dl class=dl-horizontal>\n",
       "\t<dt>Bedep</dt>\n",
       "\t\t<dd>535</dd>\n",
       "\t<dt>ConfickerAB</dt>\n",
       "\t\t<dd>540</dd>\n",
       "\t<dt>Necurs</dt>\n",
       "\t\t<dd>511</dd>\n",
       "\t<dt>Olmasco</dt>\n",
       "\t\t<dd>309</dd>\n",
       "\t<dt>PushDo</dt>\n",
       "\t\t<dd>418</dd>\n",
       "\t<dt>Ramnit</dt>\n",
       "\t\t<dd>540</dd>\n",
       "\t<dt>Sality</dt>\n",
       "\t\t<dd>540</dd>\n",
       "\t<dt>zeroaccess</dt>\n",
       "\t\t<dd>538</dd>\n",
       "\t<dt>Zeus</dt>\n",
       "\t\t<dd>540</dd>\n",
       "\t<dt>Zusy</dt>\n",
       "\t\t<dd>498</dd>\n",
       "</dl>\n"
      ],
      "text/latex": [
       "\\begin{description*}\n",
       "\\item[Bedep] 535\n",
       "\\item[ConfickerAB] 540\n",
       "\\item[Necurs] 511\n",
       "\\item[Olmasco] 309\n",
       "\\item[PushDo] 418\n",
       "\\item[Ramnit] 540\n",
       "\\item[Sality] 540\n",
       "\\item[zeroaccess] 538\n",
       "\\item[Zeus] 540\n",
       "\\item[Zusy] 498\n",
       "\\end{description*}\n"
      ],
      "text/markdown": [
       "Bedep\n",
       ":   535ConfickerAB\n",
       ":   540Necurs\n",
       ":   511Olmasco\n",
       ":   309PushDo\n",
       ":   418Ramnit\n",
       ":   540Sality\n",
       ":   540zeroaccess\n",
       ":   538Zeus\n",
       ":   540Zusy\n",
       ":   498\n",
       "\n"
      ],
      "text/plain": [
       "      Bedep ConfickerAB      Necurs     Olmasco      PushDo      Ramnit \n",
       "        535         540         511         309         418         540 \n",
       "     Sality  zeroaccess        Zeus        Zusy \n",
       "        540         538         540         498 "
      ]
     },
     "metadata": {},
     "output_type": "display_data"
    },
    {
     "data": {
      "text/html": [
       "<dl class=dl-horizontal>\n",
       "\t<dt>Education</dt>\n",
       "\t\t<dd>820</dd>\n",
       "\t<dt>Finance</dt>\n",
       "\t\t<dd>789</dd>\n",
       "\t<dt>Government/Politics</dt>\n",
       "\t\t<dd>793</dd>\n",
       "\t<dt>Healthcare/Wellness</dt>\n",
       "\t\t<dd>798</dd>\n",
       "\t<dt>Manufacturing</dt>\n",
       "\t\t<dd>895</dd>\n",
       "\t<dt>Retail</dt>\n",
       "\t\t<dd>874</dd>\n",
       "</dl>\n"
      ],
      "text/latex": [
       "\\begin{description*}\n",
       "\\item[Education] 820\n",
       "\\item[Finance] 789\n",
       "\\item[Government/Politics] 793\n",
       "\\item[Healthcare/Wellness] 798\n",
       "\\item[Manufacturing] 895\n",
       "\\item[Retail] 874\n",
       "\\end{description*}\n"
      ],
      "text/markdown": [
       "Education\n",
       ":   820Finance\n",
       ":   789Government/Politics\n",
       ":   793Healthcare/Wellness\n",
       ":   798Manufacturing\n",
       ":   895Retail\n",
       ":   874\n",
       "\n"
      ],
      "text/plain": [
       "          Education             Finance Government/Politics Healthcare/Wellness \n",
       "                820                 789                 793                 798 \n",
       "      Manufacturing              Retail \n",
       "                895                 874 "
      ]
     },
     "metadata": {},
     "output_type": "display_data"
    }
   ],
   "source": [
    "### use \"read_csv\" from `readr`\n",
    "### see `vignette(\"column-types\")` for details on col_types\n",
    "dailybot <- read_csv(\"../../Data/dailybots.csv\")\n",
    "\n",
    "### look at a summary of the data\n",
    "summary(dailybot)\n",
    "\n",
    "## could make the botfam and industry a factor so sumamarize counts them\n",
    "summary(factor(dailybot$botfam))  # note, factor is only for the summary function\n",
    "summary(factor(dailybot$industry))  # source data in `dailybots` is left unchanged.\n",
    "\n",
    "## or count them with dplyr\n",
    "#dailybot %>% count(botfam)\n",
    "#dailybot %>% count(industry)"
   ]
  },
  {
   "cell_type": "markdown",
   "metadata": {
    "collapsed": true
   },
   "source": [
    "### Exercise 1: Which industry sees the most Ramnit infections?  Least?\n",
    "\n",
    "Count the number of infected days for \"Ramnit\" in each industry industry. \n",
    "\n",
    "1. First filter (`dplyr::filter`) the data to remove all the infections (bot families) we do not care about.\n",
    "2. Aggregate the data on the column of interest \n",
    "    + Could use `dplyr::group_by` and `dplyr::summarize` to add up the hosts \n",
    "    + Or the simplified `dplyr::count` with `wt=hosts` which is just a convenience function)"
   ]
  },
  {
   "cell_type": "code",
   "execution_count": null,
   "metadata": {},
   "outputs": [],
   "source": []
  },
  {
   "cell_type": "markdown",
   "metadata": {},
   "source": [
    "### Exercise 2: Calculate the min, max, median and mean infected orgs across industries for each bot family, sort by median\n",
    "\n",
    "In this exercise, you are asked to calculate the min, max, median and mean of infected orgs for each bot family sorted by median.  \n",
    "\n",
    "1. Try the `dplyr::group_by()` function on bot families.\n",
    "2. `dplyr::summarize` will summarize for each unique group and can have multiple assignments in a single function call.\n",
    "3. `dplyr::arrange` can take a column to sort by and wrapping a column in `desc()` will sort it descending."
   ]
  },
  {
   "cell_type": "code",
   "execution_count": null,
   "metadata": {},
   "outputs": [],
   "source": []
  },
  {
   "cell_type": "markdown",
   "metadata": {},
   "source": [
    "### Exercise 3: Which date had the total most bot infections and how many infections on that day?\n",
    "\n",
    "In this exercise you are asked to aggregate and sum the number of infections (hosts) by date. Once you've done that, the next step is to sort in descending order.\n",
    "\n",
    "Hint: ignore botfam and industry, use dplyr::count and dplyr::top_n"
   ]
  },
  {
   "cell_type": "code",
   "execution_count": null,
   "metadata": {},
   "outputs": [],
   "source": []
  },
  {
   "cell_type": "markdown",
   "metadata": {},
   "source": [
    "### Exercise 4: Plot the daily infected hosts for Necurs, Ramnit and Pushdo\n",
    "\n",
    "In this exercise you're going to plot the daily infected hosts for three infection types. In order to do this, you'll need to do the following steps:\n",
    "\n",
    "1. Filter the data to remove the bot families we don't care about.\n",
    "2. Aggregate (count) the data by date and family, then sum up the hosts in each group\n",
    "3. Plot the data. \n",
    "\n",
    "Hint: You may want to de-emphasize the lines by adding `linetype=\"dashed\"` to the lines and then add a `geom_smooth` to smooth the weekly periodicity."
   ]
  },
  {
   "cell_type": "code",
   "execution_count": null,
   "metadata": {},
   "outputs": [],
   "source": []
  },
  {
   "cell_type": "markdown",
   "metadata": {},
   "source": [
    "### Exercise 5: What are the distribution of infected hosts for each day-of-week across all bot families?  \n",
    "\n",
    "Hint: try a box plot and/or violin plot\n",
    "\n",
    "1. Sum up the hosts for each date.\n",
    "2. Create a column for the day of the week \n",
    "    + Use `dplyr::mutate` to assign `format` and then the correct date representation from `?strptime` to a new column\n",
    "3. You may have to create an ordered factor (`?factor`) with the days of week to ensure correct order in the plot.\n",
    "4. Use `geom_boxplot()` or `geom_violion()`"
   ]
  },
  {
   "cell_type": "code",
   "execution_count": null,
   "metadata": {},
   "outputs": [],
   "source": []
  }
 ],
 "metadata": {
  "kernelspec": {
   "display_name": "R",
   "language": "R",
   "name": "ir"
  },
  "language_info": {
   "codemirror_mode": "r",
   "file_extension": ".r",
   "mimetype": "text/x-r-source",
   "name": "R",
   "pygments_lexer": "r",
   "version": "3.4.1"
  }
 },
 "nbformat": 4,
 "nbformat_minor": 2
}
